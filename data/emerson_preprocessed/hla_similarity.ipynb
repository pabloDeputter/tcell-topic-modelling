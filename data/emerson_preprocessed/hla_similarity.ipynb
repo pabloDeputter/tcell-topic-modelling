{
 "cells": [
  {
   "cell_type": "code",
   "execution_count": 1,
   "metadata": {},
   "outputs": [],
   "source": [
    "import pandas as pd\n",
    "import matplotlib.pyplot as plt\n",
    "import seaborn as sns\n",
    "import plotly.express as px"
   ]
  },
  {
   "attachments": {},
   "cell_type": "markdown",
   "metadata": {},
   "source": [
    "Read in data:"
   ]
  },
  {
   "cell_type": "code",
   "execution_count": 2,
   "metadata": {},
   "outputs": [],
   "source": [
    "df = pd.read_csv(\"../emerson/metadata_merged_full.tsv\", sep=\"\\t\", index_col=[0])\n",
    "hla_cols = [c for c in df.columns if c.startswith(\"HLA\")]\n"
   ]
  },
  {
   "attachments": {},
   "cell_type": "markdown",
   "metadata": {},
   "source": [
    "Drop columns with nan values, this drops almost half of the samples"
   ]
  },
  {
   "cell_type": "code",
   "execution_count": 3,
   "metadata": {},
   "outputs": [],
   "source": [
    "hla_df = df.set_index(\"sample_name\")[hla_cols].copy().dropna()"
   ]
  },
  {
   "cell_type": "code",
   "execution_count": 4,
   "metadata": {},
   "outputs": [
    {
     "data": {
      "text/plain": [
       "393"
      ]
     },
     "execution_count": 4,
     "metadata": {},
     "output_type": "execute_result"
    }
   ],
   "source": [
    "len(hla_df)"
   ]
  },
  {
   "cell_type": "code",
   "execution_count": 5,
   "metadata": {},
   "outputs": [
    {
     "data": {
      "text/html": [
       "<div>\n",
       "<style scoped>\n",
       "    .dataframe tbody tr th:only-of-type {\n",
       "        vertical-align: middle;\n",
       "    }\n",
       "\n",
       "    .dataframe tbody tr th {\n",
       "        vertical-align: top;\n",
       "    }\n",
       "\n",
       "    .dataframe thead th {\n",
       "        text-align: right;\n",
       "    }\n",
       "</style>\n",
       "<table border=\"1\" class=\"dataframe\">\n",
       "  <thead>\n",
       "    <tr style=\"text-align: right;\">\n",
       "      <th></th>\n",
       "      <th>HLA-A*33:01</th>\n",
       "      <th>HLA-A*33:03</th>\n",
       "      <th>HLA-A*26:01</th>\n",
       "      <th>HLA-A*31:01</th>\n",
       "      <th>HLA-A*11:01</th>\n",
       "      <th>HLA-A*23:01</th>\n",
       "      <th>HLA-A*03:01</th>\n",
       "      <th>HLA-A*24:03</th>\n",
       "      <th>HLA-A*34:01</th>\n",
       "      <th>HLA-A*03:02</th>\n",
       "      <th>...</th>\n",
       "      <th>HLA-DQAB*01:03_03:01</th>\n",
       "      <th>HLA-DQAB*01:02_03:02</th>\n",
       "      <th>HLA-DQAB*02:01_06:09</th>\n",
       "      <th>HLA-DQAB*02:01_06:02</th>\n",
       "      <th>HLA-DQAB*02:01_06:03</th>\n",
       "      <th>HLA-DQAB*01:03_06:01</th>\n",
       "      <th>HLA-DQAB*01:03_06:02</th>\n",
       "      <th>HLA-DPAB*01:03_10:01</th>\n",
       "      <th>HLA-DQAB*01:02_04:02</th>\n",
       "      <th>HLA-DPAB*02:02_05:01</th>\n",
       "    </tr>\n",
       "    <tr>\n",
       "      <th>sample_name</th>\n",
       "      <th></th>\n",
       "      <th></th>\n",
       "      <th></th>\n",
       "      <th></th>\n",
       "      <th></th>\n",
       "      <th></th>\n",
       "      <th></th>\n",
       "      <th></th>\n",
       "      <th></th>\n",
       "      <th></th>\n",
       "      <th></th>\n",
       "      <th></th>\n",
       "      <th></th>\n",
       "      <th></th>\n",
       "      <th></th>\n",
       "      <th></th>\n",
       "      <th></th>\n",
       "      <th></th>\n",
       "      <th></th>\n",
       "      <th></th>\n",
       "      <th></th>\n",
       "    </tr>\n",
       "  </thead>\n",
       "  <tbody>\n",
       "    <tr>\n",
       "      <th>P00030</th>\n",
       "      <td>False</td>\n",
       "      <td>False</td>\n",
       "      <td>False</td>\n",
       "      <td>False</td>\n",
       "      <td>False</td>\n",
       "      <td>False</td>\n",
       "      <td>False</td>\n",
       "      <td>False</td>\n",
       "      <td>False</td>\n",
       "      <td>False</td>\n",
       "      <td>...</td>\n",
       "      <td>False</td>\n",
       "      <td>False</td>\n",
       "      <td>False</td>\n",
       "      <td>False</td>\n",
       "      <td>False</td>\n",
       "      <td>False</td>\n",
       "      <td>False</td>\n",
       "      <td>False</td>\n",
       "      <td>False</td>\n",
       "      <td>False</td>\n",
       "    </tr>\n",
       "    <tr>\n",
       "      <th>P00061</th>\n",
       "      <td>False</td>\n",
       "      <td>False</td>\n",
       "      <td>False</td>\n",
       "      <td>False</td>\n",
       "      <td>False</td>\n",
       "      <td>False</td>\n",
       "      <td>False</td>\n",
       "      <td>False</td>\n",
       "      <td>False</td>\n",
       "      <td>False</td>\n",
       "      <td>...</td>\n",
       "      <td>False</td>\n",
       "      <td>False</td>\n",
       "      <td>False</td>\n",
       "      <td>False</td>\n",
       "      <td>False</td>\n",
       "      <td>False</td>\n",
       "      <td>False</td>\n",
       "      <td>False</td>\n",
       "      <td>False</td>\n",
       "      <td>False</td>\n",
       "    </tr>\n",
       "    <tr>\n",
       "      <th>P00127</th>\n",
       "      <td>False</td>\n",
       "      <td>False</td>\n",
       "      <td>False</td>\n",
       "      <td>False</td>\n",
       "      <td>False</td>\n",
       "      <td>False</td>\n",
       "      <td>False</td>\n",
       "      <td>False</td>\n",
       "      <td>False</td>\n",
       "      <td>False</td>\n",
       "      <td>...</td>\n",
       "      <td>False</td>\n",
       "      <td>False</td>\n",
       "      <td>False</td>\n",
       "      <td>False</td>\n",
       "      <td>False</td>\n",
       "      <td>False</td>\n",
       "      <td>False</td>\n",
       "      <td>False</td>\n",
       "      <td>False</td>\n",
       "      <td>False</td>\n",
       "    </tr>\n",
       "    <tr>\n",
       "      <th>P00175</th>\n",
       "      <td>False</td>\n",
       "      <td>False</td>\n",
       "      <td>False</td>\n",
       "      <td>False</td>\n",
       "      <td>False</td>\n",
       "      <td>False</td>\n",
       "      <td>False</td>\n",
       "      <td>False</td>\n",
       "      <td>False</td>\n",
       "      <td>False</td>\n",
       "      <td>...</td>\n",
       "      <td>False</td>\n",
       "      <td>False</td>\n",
       "      <td>False</td>\n",
       "      <td>False</td>\n",
       "      <td>False</td>\n",
       "      <td>False</td>\n",
       "      <td>False</td>\n",
       "      <td>False</td>\n",
       "      <td>False</td>\n",
       "      <td>False</td>\n",
       "    </tr>\n",
       "    <tr>\n",
       "      <th>P00078</th>\n",
       "      <td>False</td>\n",
       "      <td>False</td>\n",
       "      <td>True</td>\n",
       "      <td>False</td>\n",
       "      <td>False</td>\n",
       "      <td>False</td>\n",
       "      <td>False</td>\n",
       "      <td>False</td>\n",
       "      <td>False</td>\n",
       "      <td>False</td>\n",
       "      <td>...</td>\n",
       "      <td>False</td>\n",
       "      <td>False</td>\n",
       "      <td>False</td>\n",
       "      <td>False</td>\n",
       "      <td>False</td>\n",
       "      <td>False</td>\n",
       "      <td>True</td>\n",
       "      <td>False</td>\n",
       "      <td>False</td>\n",
       "      <td>False</td>\n",
       "    </tr>\n",
       "    <tr>\n",
       "      <th>...</th>\n",
       "      <td>...</td>\n",
       "      <td>...</td>\n",
       "      <td>...</td>\n",
       "      <td>...</td>\n",
       "      <td>...</td>\n",
       "      <td>...</td>\n",
       "      <td>...</td>\n",
       "      <td>...</td>\n",
       "      <td>...</td>\n",
       "      <td>...</td>\n",
       "      <td>...</td>\n",
       "      <td>...</td>\n",
       "      <td>...</td>\n",
       "      <td>...</td>\n",
       "      <td>...</td>\n",
       "      <td>...</td>\n",
       "      <td>...</td>\n",
       "      <td>...</td>\n",
       "      <td>...</td>\n",
       "      <td>...</td>\n",
       "      <td>...</td>\n",
       "    </tr>\n",
       "    <tr>\n",
       "      <th>P00349</th>\n",
       "      <td>False</td>\n",
       "      <td>False</td>\n",
       "      <td>False</td>\n",
       "      <td>False</td>\n",
       "      <td>False</td>\n",
       "      <td>False</td>\n",
       "      <td>False</td>\n",
       "      <td>False</td>\n",
       "      <td>False</td>\n",
       "      <td>False</td>\n",
       "      <td>...</td>\n",
       "      <td>False</td>\n",
       "      <td>False</td>\n",
       "      <td>False</td>\n",
       "      <td>False</td>\n",
       "      <td>False</td>\n",
       "      <td>False</td>\n",
       "      <td>False</td>\n",
       "      <td>False</td>\n",
       "      <td>False</td>\n",
       "      <td>False</td>\n",
       "    </tr>\n",
       "    <tr>\n",
       "      <th>P00305</th>\n",
       "      <td>False</td>\n",
       "      <td>False</td>\n",
       "      <td>False</td>\n",
       "      <td>False</td>\n",
       "      <td>False</td>\n",
       "      <td>True</td>\n",
       "      <td>False</td>\n",
       "      <td>False</td>\n",
       "      <td>False</td>\n",
       "      <td>False</td>\n",
       "      <td>...</td>\n",
       "      <td>False</td>\n",
       "      <td>False</td>\n",
       "      <td>False</td>\n",
       "      <td>False</td>\n",
       "      <td>True</td>\n",
       "      <td>False</td>\n",
       "      <td>False</td>\n",
       "      <td>False</td>\n",
       "      <td>False</td>\n",
       "      <td>False</td>\n",
       "    </tr>\n",
       "    <tr>\n",
       "      <th>P00389</th>\n",
       "      <td>False</td>\n",
       "      <td>False</td>\n",
       "      <td>False</td>\n",
       "      <td>False</td>\n",
       "      <td>False</td>\n",
       "      <td>False</td>\n",
       "      <td>False</td>\n",
       "      <td>False</td>\n",
       "      <td>False</td>\n",
       "      <td>False</td>\n",
       "      <td>...</td>\n",
       "      <td>False</td>\n",
       "      <td>False</td>\n",
       "      <td>False</td>\n",
       "      <td>False</td>\n",
       "      <td>False</td>\n",
       "      <td>False</td>\n",
       "      <td>False</td>\n",
       "      <td>False</td>\n",
       "      <td>False</td>\n",
       "      <td>False</td>\n",
       "    </tr>\n",
       "    <tr>\n",
       "      <th>P00231</th>\n",
       "      <td>False</td>\n",
       "      <td>False</td>\n",
       "      <td>False</td>\n",
       "      <td>False</td>\n",
       "      <td>False</td>\n",
       "      <td>False</td>\n",
       "      <td>False</td>\n",
       "      <td>False</td>\n",
       "      <td>False</td>\n",
       "      <td>False</td>\n",
       "      <td>...</td>\n",
       "      <td>False</td>\n",
       "      <td>False</td>\n",
       "      <td>False</td>\n",
       "      <td>False</td>\n",
       "      <td>False</td>\n",
       "      <td>False</td>\n",
       "      <td>False</td>\n",
       "      <td>False</td>\n",
       "      <td>False</td>\n",
       "      <td>False</td>\n",
       "    </tr>\n",
       "    <tr>\n",
       "      <th>P00341</th>\n",
       "      <td>False</td>\n",
       "      <td>False</td>\n",
       "      <td>False</td>\n",
       "      <td>False</td>\n",
       "      <td>False</td>\n",
       "      <td>False</td>\n",
       "      <td>False</td>\n",
       "      <td>False</td>\n",
       "      <td>False</td>\n",
       "      <td>False</td>\n",
       "      <td>...</td>\n",
       "      <td>False</td>\n",
       "      <td>False</td>\n",
       "      <td>False</td>\n",
       "      <td>False</td>\n",
       "      <td>False</td>\n",
       "      <td>False</td>\n",
       "      <td>False</td>\n",
       "      <td>False</td>\n",
       "      <td>False</td>\n",
       "      <td>False</td>\n",
       "    </tr>\n",
       "  </tbody>\n",
       "</table>\n",
       "<p>393 rows × 270 columns</p>\n",
       "</div>"
      ],
      "text/plain": [
       "            HLA-A*33:01 HLA-A*33:03 HLA-A*26:01 HLA-A*31:01 HLA-A*11:01  \\\n",
       "sample_name                                                               \n",
       "P00030            False       False       False       False       False   \n",
       "P00061            False       False       False       False       False   \n",
       "P00127            False       False       False       False       False   \n",
       "P00175            False       False       False       False       False   \n",
       "P00078            False       False        True       False       False   \n",
       "...                 ...         ...         ...         ...         ...   \n",
       "P00349            False       False       False       False       False   \n",
       "P00305            False       False       False       False       False   \n",
       "P00389            False       False       False       False       False   \n",
       "P00231            False       False       False       False       False   \n",
       "P00341            False       False       False       False       False   \n",
       "\n",
       "            HLA-A*23:01 HLA-A*03:01 HLA-A*24:03 HLA-A*34:01 HLA-A*03:02  ...  \\\n",
       "sample_name                                                              ...   \n",
       "P00030            False       False       False       False       False  ...   \n",
       "P00061            False       False       False       False       False  ...   \n",
       "P00127            False       False       False       False       False  ...   \n",
       "P00175            False       False       False       False       False  ...   \n",
       "P00078            False       False       False       False       False  ...   \n",
       "...                 ...         ...         ...         ...         ...  ...   \n",
       "P00349            False       False       False       False       False  ...   \n",
       "P00305             True       False       False       False       False  ...   \n",
       "P00389            False       False       False       False       False  ...   \n",
       "P00231            False       False       False       False       False  ...   \n",
       "P00341            False       False       False       False       False  ...   \n",
       "\n",
       "            HLA-DQAB*01:03_03:01 HLA-DQAB*01:02_03:02 HLA-DQAB*02:01_06:09  \\\n",
       "sample_name                                                                  \n",
       "P00030                     False                False                False   \n",
       "P00061                     False                False                False   \n",
       "P00127                     False                False                False   \n",
       "P00175                     False                False                False   \n",
       "P00078                     False                False                False   \n",
       "...                          ...                  ...                  ...   \n",
       "P00349                     False                False                False   \n",
       "P00305                     False                False                False   \n",
       "P00389                     False                False                False   \n",
       "P00231                     False                False                False   \n",
       "P00341                     False                False                False   \n",
       "\n",
       "            HLA-DQAB*02:01_06:02 HLA-DQAB*02:01_06:03 HLA-DQAB*01:03_06:01  \\\n",
       "sample_name                                                                  \n",
       "P00030                     False                False                False   \n",
       "P00061                     False                False                False   \n",
       "P00127                     False                False                False   \n",
       "P00175                     False                False                False   \n",
       "P00078                     False                False                False   \n",
       "...                          ...                  ...                  ...   \n",
       "P00349                     False                False                False   \n",
       "P00305                     False                 True                False   \n",
       "P00389                     False                False                False   \n",
       "P00231                     False                False                False   \n",
       "P00341                     False                False                False   \n",
       "\n",
       "            HLA-DQAB*01:03_06:02 HLA-DPAB*01:03_10:01 HLA-DQAB*01:02_04:02  \\\n",
       "sample_name                                                                  \n",
       "P00030                     False                False                False   \n",
       "P00061                     False                False                False   \n",
       "P00127                     False                False                False   \n",
       "P00175                     False                False                False   \n",
       "P00078                      True                False                False   \n",
       "...                          ...                  ...                  ...   \n",
       "P00349                     False                False                False   \n",
       "P00305                     False                False                False   \n",
       "P00389                     False                False                False   \n",
       "P00231                     False                False                False   \n",
       "P00341                     False                False                False   \n",
       "\n",
       "            HLA-DPAB*02:02_05:01  \n",
       "sample_name                       \n",
       "P00030                     False  \n",
       "P00061                     False  \n",
       "P00127                     False  \n",
       "P00175                     False  \n",
       "P00078                     False  \n",
       "...                          ...  \n",
       "P00349                     False  \n",
       "P00305                     False  \n",
       "P00389                     False  \n",
       "P00231                     False  \n",
       "P00341                     False  \n",
       "\n",
       "[393 rows x 270 columns]"
      ]
     },
     "execution_count": 5,
     "metadata": {},
     "output_type": "execute_result"
    }
   ],
   "source": [
    "hla_df"
   ]
  },
  {
   "attachments": {},
   "cell_type": "markdown",
   "metadata": {},
   "source": [
    "Visualize the HLA matrix: columns represent the presence or absence of a HLA allele in a particular sample (row)"
   ]
  },
  {
   "cell_type": "code",
   "execution_count": 6,
   "metadata": {},
   "outputs": [
    {
     "data": {
      "text/plain": [
       "<Axes: ylabel='sample_name'>"
      ]
     },
     "execution_count": 6,
     "metadata": {},
     "output_type": "execute_result"
    },
    {
     "data": {
      "image/png": "[encoded data removed]",
      "text/plain": [
       "<Figure size 5000x500 with 1 Axes>"
      ]
     },
     "metadata": {},
     "output_type": "display_data"
    }
   ],
   "source": [
    "fig, ax = plt.subplots(figsize=(50,5))\n",
    "sns.heatmap(hla_df.dropna().astype(int), cbar=False)"
   ]
  },
  {
   "attachments": {},
   "cell_type": "markdown",
   "metadata": {},
   "source": [
    "## Dimensionality reduction\n",
    "\n",
    "Two different methods were used:\n",
    "\n",
    "- Simple K-means on the one-hot encoded HLA typing arrays, with K in this case set to 10 (could be increased/reduced, although the results might be less meaningful)\n",
    "- UMAP dimensionality reduction using the hamming distance + DBScan density-based clustering. (The number of clusters cannot be preset, however this method allows for outliers)\n",
    "\n",
    "For the UMAP method you can cite this paper:\n",
    "- https://doi.org/10.48550/arXiv.1802.03426\n",
    "- https://joss.theoj.org/papers/10.21105/joss.00205\n"
   ]
  },
  {
   "cell_type": "code",
   "execution_count": 7,
   "metadata": {},
   "outputs": [
    {
     "name": "stderr",
     "output_type": "stream",
     "text": [
      "/home/vincent/miniforge-pypy3/envs/raptcr/lib/python3.9/site-packages/tqdm/auto.py:21: TqdmWarning: IProgress not found. Please update jupyter and ipywidgets. See https://ipywidgets.readthedocs.io/en/stable/user_install.html\n",
      "  from .autonotebook import tqdm as notebook_tqdm\n",
      "2023-05-22 17:44:09.088630: I tensorflow/core/platform/cpu_feature_guard.cc:193] This TensorFlow binary is optimized with oneAPI Deep Neural Network Library (oneDNN) to use the following CPU instructions in performance-critical operations:  AVX2 AVX_VNNI FMA\n",
      "To enable them in other operations, rebuild TensorFlow with the appropriate compiler flags.\n",
      "2023-05-22 17:44:09.182719: I tensorflow/core/util/port.cc:104] oneDNN custom operations are on. You may see slightly different numerical results due to floating-point round-off errors from different computation orders. To turn them off, set the environment variable `TF_ENABLE_ONEDNN_OPTS=0`.\n",
      "2023-05-22 17:44:09.643752: W tensorflow/compiler/xla/stream_executor/platform/default/dso_loader.cc:64] Could not load dynamic library 'libnvinfer.so.7'; dlerror: libnvinfer.so.7: cannot open shared object file: No such file or directory; LD_LIBRARY_PATH: :/home/vincent/miniforge-pypy3/envs/raptcr/lib/:/home/vincent/miniforge-pypy3/envs/raptcr/lib/python3.8/site-packages/tensorrt/\n",
      "2023-05-22 17:44:09.643816: W tensorflow/compiler/xla/stream_executor/platform/default/dso_loader.cc:64] Could not load dynamic library 'libnvinfer_plugin.so.7'; dlerror: libnvinfer_plugin.so.7: cannot open shared object file: No such file or directory; LD_LIBRARY_PATH: :/home/vincent/miniforge-pypy3/envs/raptcr/lib/:/home/vincent/miniforge-pypy3/envs/raptcr/lib/python3.8/site-packages/tensorrt/\n",
      "2023-05-22 17:44:09.643820: W tensorflow/compiler/tf2tensorrt/utils/py_utils.cc:38] TF-TRT Warning: Cannot dlopen some TensorRT libraries. If you would like to use Nvidia GPU with TensorRT, please make sure the missing libraries mentioned above are installed properly.\n"
     ]
    }
   ],
   "source": [
    "import umap\n",
    "import hdbscan\n",
    "from sklearn.cluster import KMeans"
   ]
  },
  {
   "cell_type": "code",
   "execution_count": 8,
   "metadata": {},
   "outputs": [
    {
     "name": "stderr",
     "output_type": "stream",
     "text": [
      "/home/vincent/miniforge-pypy3/envs/raptcr/lib/python3.9/site-packages/umap/umap_.py:1802: UserWarning: gradient function is not yet implemented for hamming distance metric; inverse_transform will be unavailable\n",
      "  warn(\n"
     ]
    }
   ],
   "source": [
    "embedding = umap.UMAP(\n",
    "    metric=\"hamming\",\n",
    "    n_neighbors=30,\n",
    "    min_dist=0.0,\n",
    "    ).fit_transform(hla_df.dropna())\n",
    "\n",
    "hla_df[\"UMAP_x\"], hla_df[\"UMAP_y\"] = embedding.T\n",
    "\n",
    "umap_hdb_cluster_labels = hdbscan.HDBSCAN(\n",
    "    min_samples=10,\n",
    "    min_cluster_size=2,\n",
    ").fit_predict(embedding)\n",
    "\n",
    "hla_df[\"umap_hdb_cluster_labels\"] = umap_hdb_cluster_labels\n",
    "hla_df[\"umap_hdb_cluster_labels\"] = hla_df[\"umap_hdb_cluster_labels\"].astype(str)"
   ]
  },
  {
   "cell_type": "code",
   "execution_count": 9,
   "metadata": {},
   "outputs": [
    {
     "name": "stderr",
     "output_type": "stream",
     "text": [
      "/home/vincent/miniforge-pypy3/envs/raptcr/lib/python3.9/site-packages/sklearn/cluster/_kmeans.py:870: FutureWarning: The default value of `n_init` will change from 10 to 'auto' in 1.4. Set the value of `n_init` explicitly to suppress the warning\n",
      "  warnings.warn(\n"
     ]
    }
   ],
   "source": [
    "kmeans_cluster_labels = KMeans(n_clusters=10).fit_predict(hla_df[hla_cols])\n",
    "\n",
    "hla_df[\"kmeans_cluster_labels\"] = kmeans_cluster_labels\n",
    "hla_df[\"kmeans_cluster_labels\"] = hla_df[\"kmeans_cluster_labels\"].astype(str)"
   ]
  },
  {
   "cell_type": "code",
   "execution_count": 10,
   "metadata": {},
   "outputs": [
    {
     "data": {
      "text/plain": [
       "<Axes: xlabel='UMAP_x', ylabel='UMAP_y'>"
      ]
     },
     "execution_count": 10,
     "metadata": {},
     "output_type": "execute_result"
    },
    {
     "data": {
      "image/png": "[encoded data removed]",
      "text/plain": [
       "<Figure size 640x480 with 1 Axes>"
      ]
     },
     "metadata": {},
     "output_type": "display_data"
    }
   ],
   "source": [
    "sns.scatterplot(hla_df, x='UMAP_x', y='UMAP_y', s=5, hue=\"umap_hdb_cluster_labels\")"
   ]
  },
  {
   "cell_type": "code",
   "execution_count": 13,
   "metadata": {},
   "outputs": [
    {
     "data": {
      "application/vnd.plotly.v1+json": {
       "config": {
        "plotlyServerURL": "https://plot.ly"
       },
       "data": [
        {
         "hovertemplate": "<b>%{hovertext}</b><br><br>umap_hdb_cluster_labels=-1<br>UMAP_x=%{x}<br>UMAP_y=%{y}<extra></extra>",
         "hovertext": [
          "P00030",
          "P00160",
          "P00126",
          "P00198",
          "P00076",
          "P00090",
          "P00137",
          "P00115",
          "P00071",
          "P00138",
          "P00085",
          "P00066",
          "P00143",
          "P00041",
          "P00150",
          "P00006",
          "P00141",
          "P00045",
          "P00117",
          "P00145",
          "P00114",
          "P00116",
          "P00134",
          "P00139",
          "P00200",
          "P00118",
          "P00444",
          "P00538",
          "P00414",
          "P00546",
          "P00501",
          "P00425",
          "P00554",
          "P00597",
          "P00428",
          "P00515",
          "P00614",
          "P00488",
          "P00550",
          "P00656",
          "P00627",
          "P00564",
          "P00602",
          "P00566",
          "P00510",
          "P00662",
          "P00635",
          "P00485",
          "P00530",
          "P00532",
          "P00522",
          "P00544",
          "P00542",
          "P00639",
          "P00625",
          "P00551",
          "P00533",
          "P00412",
          "P00552",
          "P00654",
          "P00403",
          "P00490",
          "P00343",
          "P00249",
          "P00206",
          "P00274",
          "P00280",
          "P00306",
          "P00308",
          "P00377",
          "P00310",
          "P00317",
          "P00264",
          "P00320",
          "P00397",
          "P00235",
          "P00286",
          "P00351",
          "P00340",
          "P00288",
          "P00321",
          "P00341"
         ],
         "legendgroup": "-1",
         "marker": {
          "color": "#636efa",
          "symbol": "circle"
         },
         "mode": "markers",
         "name": "-1",
         "orientation": "v",
         "showlegend": true,
         "type": "scatter",
         "x": [
          1.4451102018356323,
          0.3331998586654663,
          -1.1994702816009521,
          -0.2711344063282013,
          -0.2223730832338333,
          -0.8758185505867004,
          -1.2670496702194214,
          3.404539108276367,
          0.2904629409313202,
          -1.1385583877563477,
          -1.209102749824524,
          1.0955023765563965,
          1.1467232704162598,
          2.088068962097168,
          0.0844201073050499,
          1.2664307355880737,
          0.24240456521511078,
          -0.6274886727333069,
          4.727517127990723,
          1.241905927658081,
          1.5975278615951538,
          -0.2990407347679138,
          1.2695988416671753,
          2.418039321899414,
          -0.8569005131721497,
          2.2297861576080322,
          0.07945752888917923,
          3.2980642318725586,
          1.9802643060684204,
          0.32871168851852417,
          -0.25012731552124023,
          -0.3596743047237396,
          3.30073618888855,
          1.6164424419403076,
          -0.25592806935310364,
          0.37329262495040894,
          1.7699836492538452,
          1.3407186269760132,
          -0.3663058280944824,
          1.9593679904937744,
          0.051805976778268814,
          0.5126498937606812,
          1.690301537513733,
          1.8774678707122803,
          3.051074266433716,
          0.30758482217788696,
          1.2069275379180908,
          1.7082836627960205,
          1.88865327835083,
          0.3249455392360687,
          -0.04996677115559578,
          1.7035430669784546,
          -1.263017177581787,
          2.664499282836914,
          1.2770419120788574,
          0.4174565374851227,
          0.312392920255661,
          -0.14951463043689728,
          3.250666856765747,
          3.6269662380218506,
          0.5424200296401978,
          0.21471545100212097,
          4.706709861755371,
          1.8374327421188354,
          -1.1697057485580444,
          -0.27413275837898254,
          -0.67578125,
          1.4964115619659424,
          -0.329075425863266,
          1.781064510345459,
          0.7689954042434692,
          1.78013014793396,
          0.03809059038758278,
          -0.6652117967605591,
          1.9729496240615845,
          2.660936117172241,
          0.04391099885106087,
          0.05480395630002022,
          4.661377906799316,
          1.624757170677185,
          1.2656713724136353,
          0.7184008359909058
         ],
         "xaxis": "x",
         "y": [
          3.3080992698669434,
          2.053546667098999,
          4.389451503753662,
          3.5675809383392334,
          3.6283390522003174,
          3.7007997035980225,
          4.56198787689209,
          3.6091127395629883,
          4.633798122406006,
          4.425896644592285,
          4.518336296081543,
          4.912553787231445,
          1.6228104829788208,
          3.594970464706421,
          4.07522439956665,
          1.5810132026672363,
          4.558516025543213,
          4.065937042236328,
          2.5815298557281494,
          1.615313172340393,
          3.8825013637542725,
          4.434723377227783,
          3.3304829597473145,
          3.2580738067626953,
          3.497734308242798,
          3.4917545318603516,
          4.1161909103393555,
          2.9693503379821777,
          2.396088123321533,
          2.0348544120788574,
          4.345153331756592,
          4.412567615509033,
          2.965487480163574,
          3.9900615215301514,
          3.567631721496582,
          4.564223766326904,
          2.4370603561401367,
          3.2317185401916504,
          4.435241222381592,
          2.7107741832733154,
          4.86025857925415,
          4.643352031707764,
          3.899061441421509,
          2.775954484939575,
          3.139505386352539,
          4.682159423828125,
          1.5848010778427124,
          6.737957954406738,
          3.398798942565918,
          2.132213592529297,
          4.8120856285095215,
          3.9143176078796387,
          4.519913673400879,
          3.245429754257202,
          1.6435673236846924,
          4.051497936248779,
          4.550463676452637,
          4.32452392578125,
          3.026027202606201,
          2.3028857707977295,
          3.8217525482177734,
          4.519768238067627,
          2.168700695037842,
          3.5121665000915527,
          4.574141979217529,
          3.5059549808502197,
          4.038203716278076,
          3.9281044006347656,
          4.407712459564209,
          2.3840174674987793,
          3.351940631866455,
          2.797539234161377,
          2.489283323287964,
          3.9984986782073975,
          3.506416082382202,
          3.0590872764587402,
          4.861948013305664,
          4.025294303894043,
          2.515479564666748,
          4.122796058654785,
          3.301842212677002,
          3.419701337814331
         ],
         "yaxis": "y"
        },
        {
         "hovertemplate": "<b>%{hovertext}</b><br><br>umap_hdb_cluster_labels=1<br>UMAP_x=%{x}<br>UMAP_y=%{y}<extra></extra>",
         "hovertext": [
          "P00061",
          "P00027",
          "P00046",
          "P00154",
          "P00573",
          "P00456",
          "P00598",
          "P00418",
          "P00557",
          "P00462",
          "P00615",
          "P00474",
          "P00579",
          "P00211",
          "P00236",
          "P00358",
          "P00241",
          "P00225",
          "P00238"
         ],
         "legendgroup": "1",
         "marker": {
          "color": "#EF553B",
          "symbol": "circle"
         },
         "mode": "markers",
         "name": "1",
         "orientation": "v",
         "showlegend": true,
         "type": "scatter",
         "x": [
          5.117915153503418,
          5.0714497566223145,
          5.272237777709961,
          5.142323017120361,
          5.259835720062256,
          5.202905654907227,
          5.3055877685546875,
          5.074051380157471,
          4.762287139892578,
          5.081236839294434,
          5.156131744384766,
          5.341660976409912,
          5.248561859130859,
          5.232096195220947,
          5.305643081665039,
          5.137458801269531,
          5.197359085083008,
          5.0444512367248535,
          5.026642799377441
         ],
         "xaxis": "x",
         "y": [
          1.8965908288955688,
          2.1808178424835205,
          1.9253908395767212,
          1.9872283935546875,
          1.799399733543396,
          1.916717290878296,
          1.8271533250808716,
          2.198659896850586,
          2.1354377269744873,
          2.0456063747406006,
          1.9880316257476807,
          1.7837343215942383,
          1.8780732154846191,
          1.8647539615631104,
          1.823364496231079,
          1.9867913722991943,
          1.9572761058807373,
          2.1131105422973633,
          2.1090288162231445
         ],
         "yaxis": "y"
        },
        {
         "hovertemplate": "<b>%{hovertext}</b><br><br>umap_hdb_cluster_labels=2<br>UMAP_x=%{x}<br>UMAP_y=%{y}<extra></extra>",
         "hovertext": [
          "P00127",
          "P00121",
          "P00186",
          "P00038",
          "P00466",
          "P00651",
          "P00467",
          "P00479",
          "P00650",
          "P00381",
          "P00375",
          "P00346",
          "P00209"
         ],
         "legendgroup": "2",
         "marker": {
          "color": "#00cc96",
          "symbol": "circle"
         },
         "mode": "markers",
         "name": "2",
         "orientation": "v",
         "showlegend": true,
         "type": "scatter",
         "x": [
          3.0133700370788574,
          3.2561514377593994,
          3.1255571842193604,
          3.0525646209716797,
          3.077929973602295,
          3.156473159790039,
          3.1057796478271484,
          3.227630376815796,
          3.3254752159118652,
          3.05488657951355,
          3.1504428386688232,
          3.157528877258301,
          3.1241683959960938
         ],
         "xaxis": "x",
         "y": [
          1.9929486513137817,
          2.2556660175323486,
          2.0863075256347656,
          2.008089065551758,
          2.03975510597229,
          2.1430814266204834,
          2.0880508422851562,
          2.1292505264282227,
          2.2749412059783936,
          2.0850627422332764,
          2.140932559967041,
          2.1511683464050293,
          2.0952203273773193
         ],
         "yaxis": "y"
        },
        {
         "hovertemplate": "<b>%{hovertext}</b><br><br>umap_hdb_cluster_labels=10<br>UMAP_x=%{x}<br>UMAP_y=%{y}<extra></extra>",
         "hovertext": [
          "P00175",
          "P00053"
         ],
         "legendgroup": "10",
         "marker": {
          "color": "#ab63fa",
          "symbol": "circle"
         },
         "mode": "markers",
         "name": "10",
         "orientation": "v",
         "showlegend": true,
         "type": "scatter",
         "x": [
          -0.4634353518486023,
          -0.4190259277820587
         ],
         "xaxis": "x",
         "y": [
          4.1950483322143555,
          4.136358261108398
         ],
         "yaxis": "y"
        },
        {
         "hovertemplate": "<b>%{hovertext}</b><br><br>umap_hdb_cluster_labels=4<br>UMAP_x=%{x}<br>UMAP_y=%{y}<extra></extra>",
         "hovertext": [
          "P00078",
          "P00080",
          "P00051",
          "P00083",
          "P00063",
          "P00124",
          "P00067",
          "P00008",
          "P00079",
          "P00062",
          "P00189",
          "P00065",
          "P00060",
          "P00074",
          "P00034",
          "P00013",
          "P00025",
          "P00010",
          "P00026",
          "P00147",
          "P00011",
          "P00157",
          "P00188",
          "P00123",
          "P00111",
          "P00463",
          "P00477",
          "P00520",
          "P00478",
          "P00607",
          "P00663",
          "P00433",
          "P00558",
          "P00622",
          "P00624",
          "P00619",
          "P00506",
          "P00592",
          "P00447",
          "P00493",
          "P00555",
          "P00591",
          "P00504",
          "P00445",
          "P00638",
          "P00460",
          "P00567",
          "P00469",
          "P00455",
          "P00633",
          "P00415",
          "P00408",
          "P00659",
          "P00526",
          "P00569",
          "P00630",
          "P00475",
          "P00525",
          "P00587",
          "P00465",
          "P00661",
          "P00297",
          "P00339",
          "P00266",
          "P00229",
          "P00385",
          "P00282",
          "P00370",
          "P00242",
          "P00398",
          "P00290",
          "P00330",
          "P00244",
          "P00232",
          "P00283",
          "P00353",
          "P00347",
          "P00245",
          "P00373",
          "P00335",
          "P00395",
          "P00291",
          "P00270",
          "P00361",
          "P00207",
          "P00208",
          "P00275",
          "P00384",
          "P00203",
          "P00349",
          "P00305"
         ],
         "legendgroup": "4",
         "marker": {
          "color": "#FFA15A",
          "symbol": "circle"
         },
         "mode": "markers",
         "name": "4",
         "orientation": "v",
         "showlegend": true,
         "type": "scatter",
         "x": [
          -0.3280761241912842,
          0.01650897040963173,
          2.0543978214263916,
          1.3703018426895142,
          1.184141755104065,
          0.7312219142913818,
          -0.018372662365436554,
          0.6027147173881531,
          1.536953091621399,
          0.4812663793563843,
          1.2879054546356201,
          1.316318392753601,
          0.8508620262145996,
          1.1347864866256714,
          1.1427159309387207,
          0.9403183460235596,
          1.4628981351852417,
          1.5912567377090454,
          0.22225721180438995,
          0.7862589955329895,
          1.0877790451049805,
          1.619986653327942,
          1.907772183418274,
          0.8205548524856567,
          0.7719389200210571,
          -0.07959666848182678,
          1.0587232112884521,
          1.0771969556808472,
          1.4948934316635132,
          0.005415875930339098,
          0.6789565682411194,
          1.1188865900039673,
          -0.016239983960986137,
          0.2846059799194336,
          1.1697345972061157,
          1.5813575983047485,
          1.3823381662368774,
          0.5357790589332581,
          1.2441871166229248,
          2.1407432556152344,
          1.1784175634384155,
          1.5544148683547974,
          0.9089670777320862,
          -0.07339216768741608,
          1.7571665048599243,
          1.0698988437652588,
          -0.09694764018058777,
          1.0489811897277832,
          -0.10432639718055725,
          2.1505486965179443,
          1.497992992401123,
          1.0472338199615479,
          0.6188989877700806,
          1.2205866575241089,
          0.20343580842018127,
          0.8040165901184082,
          1.5016160011291504,
          1.3711668252944946,
          2.0992841720581055,
          2.0854175090789795,
          0.19062821567058563,
          -0.029855281114578247,
          0.7979732751846313,
          0.6151463985443115,
          -0.07855624705553055,
          1.4729257822036743,
          -0.021463317796587944,
          0.9609625339508057,
          0.19768868386745453,
          1.519330620765686,
          1.6518992185592651,
          1.4626994132995605,
          0.13416919112205505,
          0.6118901371955872,
          1.663255214691162,
          1.3915250301361084,
          -0.04828623682260513,
          1.1712054014205933,
          0.9273984432220459,
          1.4585551023483276,
          0.6934470534324646,
          2.051793336868286,
          0.26619577407836914,
          1.2604374885559082,
          1.3516756296157837,
          2.090573787689209,
          0.3130910396575928,
          -0.01786603033542633,
          1.102537751197815,
          1.1852716207504272,
          2.0273702144622803
         ],
         "xaxis": "x",
         "y": [
          6.449782848358154,
          6.557242393493652,
          6.031804084777832,
          5.798871994018555,
          5.528191089630127,
          5.70005989074707,
          6.54513692855835,
          6.312837600708008,
          6.563961982727051,
          6.5894598960876465,
          5.611278533935547,
          5.925608158111572,
          5.780852794647217,
          5.196122646331787,
          6.553531169891357,
          6.313810348510742,
          6.717206954956055,
          6.604729652404785,
          6.704555988311768,
          5.869241237640381,
          6.2179155349731445,
          6.570786476135254,
          5.743692398071289,
          5.622375965118408,
          5.900473117828369,
          6.026676177978516,
          6.144980430603027,
          6.1662797927856445,
          5.5847859382629395,
          6.519777297973633,
          6.66758918762207,
          4.951862335205078,
          6.491091251373291,
          6.582936763763428,
          5.121263027191162,
          6.645131587982178,
          6.034445762634277,
          6.705759048461914,
          5.544235706329346,
          5.791914939880371,
          5.051899433135986,
          5.780554294586182,
          6.159975051879883,
          6.123115539550781,
          5.6551055908203125,
          6.5505218505859375,
          6.029849052429199,
          5.9496169090271,
          6.04168176651001,
          5.662515163421631,
          6.683582782745361,
          6.518592357635498,
          6.637594699859619,
          5.588472366333008,
          6.698758602142334,
          5.761927127838135,
          5.67500638961792,
          5.935436248779297,
          5.992969036102295,
          5.675391674041748,
          6.449481964111328,
          6.513973236083984,
          5.910076141357422,
          6.528400421142578,
          6.463725566864014,
          5.357234477996826,
          6.488134384155273,
          6.073215484619141,
          6.631183624267578,
          5.819888114929199,
          5.932668685913086,
          5.821177005767822,
          6.604877948760986,
          6.652250289916992,
          6.681005477905273,
          6.441431999206543,
          6.013484477996826,
          5.960148334503174,
          6.520570755004883,
          6.280369758605957,
          6.593532085418701,
          6.115464687347412,
          5.758561134338379,
          5.593244552612305,
          5.750888347625732,
          6.089847087860107,
          6.633565902709961,
          6.605031967163086,
          5.0823445320129395,
          5.466413974761963,
          6.115000247955322
         ],
         "yaxis": "y"
        },
        {
         "hovertemplate": "<b>%{hovertext}</b><br><br>umap_hdb_cluster_labels=5<br>UMAP_x=%{x}<br>UMAP_y=%{y}<extra></extra>",
         "hovertext": [
          "P00173",
          "P00039",
          "P00004",
          "P00136",
          "P00502",
          "P00595",
          "P00559",
          "P00596",
          "P00611",
          "P00590",
          "P00613",
          "P00268",
          "P00263",
          "P00220",
          "P00389"
         ],
         "legendgroup": "5",
         "marker": {
          "color": "#19d3f3",
          "symbol": "circle"
         },
         "mode": "markers",
         "name": "5",
         "orientation": "v",
         "showlegend": true,
         "type": "scatter",
         "x": [
          -0.48089709877967834,
          -0.6888139247894287,
          -0.6148638725280762,
          -0.6178408861160278,
          -0.5440621972084045,
          -0.5504851341247559,
          -0.5167926549911499,
          -0.458939790725708,
          -0.5429044961929321,
          -0.5161685347557068,
          -0.7029426693916321,
          -0.6815477013587952,
          -0.603173017501831,
          -0.5723010897636414,
          -0.5078142881393433
         ],
         "xaxis": "x",
         "y": [
          2.4818007946014404,
          2.6607890129089355,
          2.434443235397339,
          2.445809841156006,
          2.39858078956604,
          2.412921190261841,
          2.3809659481048584,
          2.307234048843384,
          2.3933334350585938,
          2.405075788497925,
          2.8877975940704346,
          2.6776084899902344,
          2.4837160110473633,
          2.3791637420654297,
          2.380828380584717
         ],
         "yaxis": "y"
        },
        {
         "hovertemplate": "<b>%{hovertext}</b><br><br>umap_hdb_cluster_labels=7<br>UMAP_x=%{x}<br>UMAP_y=%{y}<extra></extra>",
         "hovertext": [
          "P00092",
          "P00156",
          "P00252",
          "P00267"
         ],
         "legendgroup": "7",
         "marker": {
          "color": "#FF6692",
          "symbol": "circle"
         },
         "mode": "markers",
         "name": "7",
         "orientation": "v",
         "showlegend": true,
         "type": "scatter",
         "x": [
          1.736985445022583,
          1.6340761184692383,
          1.628533959388733,
          1.7646716833114624
         ],
         "xaxis": "x",
         "y": [
          3.6057348251342773,
          3.430036783218384,
          3.4803273677825928,
          3.7603466510772705
         ],
         "yaxis": "y"
        },
        {
         "hovertemplate": "<b>%{hovertext}</b><br><br>umap_hdb_cluster_labels=6<br>UMAP_x=%{x}<br>UMAP_y=%{y}<extra></extra>",
         "hovertext": [
          "P00042",
          "P00096",
          "P00032",
          "P00151",
          "P00107",
          "P00059",
          "P00095",
          "P00073",
          "P00183",
          "P00184",
          "P00054",
          "P00031",
          "P00177",
          "P00576",
          "P00620",
          "P00497",
          "P00437",
          "P00448",
          "P00443",
          "P00405",
          "P00658",
          "P00605",
          "P00472",
          "P00648",
          "P00637",
          "P00583",
          "P00535",
          "P00527",
          "P00368",
          "P00251",
          "P00348",
          "P00387",
          "P00396",
          "P00279",
          "P00259",
          "P00217",
          "P00329",
          "P00313"
         ],
         "legendgroup": "6",
         "marker": {
          "color": "#B6E880",
          "symbol": "circle"
         },
         "mode": "markers",
         "name": "6",
         "orientation": "v",
         "showlegend": true,
         "type": "scatter",
         "x": [
          0.9201480150222778,
          1.3036079406738281,
          1.1115236282348633,
          0.3510790467262268,
          0.8938627243041992,
          0.7156051993370056,
          0.8345186710357666,
          0.978752076625824,
          1.1799663305282593,
          0.921597957611084,
          0.8539081811904907,
          0.9440769553184509,
          0.5691115856170654,
          1.2546329498291016,
          0.8708303570747375,
          0.9720359444618225,
          0.8751401901245117,
          1.3483688831329346,
          1.1503580808639526,
          1.6946223974227905,
          1.1200286149978638,
          0.7203907370567322,
          0.904741108417511,
          1.291099190711975,
          0.6040108799934387,
          0.7994308471679688,
          0.5351423025131226,
          0.8137108087539673,
          0.5864630341529846,
          0.7045295238494873,
          0.766900897026062,
          1.446341872215271,
          0.8076820373535156,
          1.155290961265564,
          0.44913384318351746,
          1.3434640169143677,
          0.8276091814041138,
          0.583111584186554
         ],
         "xaxis": "x",
         "y": [
          2.717470407485962,
          2.1847221851348877,
          1.7324097156524658,
          2.409832239151001,
          2.16567325592041,
          2.5047640800476074,
          2.0739734172821045,
          2.5757079124450684,
          2.277336359024048,
          2.579237699508667,
          2.7329437732696533,
          2.7125296592712402,
          2.9003548622131348,
          2.2305893898010254,
          2.0678939819335938,
          2.2599027156829834,
          2.0463521480560303,
          2.2589147090911865,
          1.7424464225769043,
          2.3767080307006836,
          1.8313336372375488,
          2.5024664402008057,
          2.683959484100342,
          2.180701971054077,
          2.820919990539551,
          2.1063075065612793,
          2.4806056022644043,
          2.135631561279297,
          2.8289029598236084,
          2.215557336807251,
          2.7493574619293213,
          2.286073684692383,
          2.260655164718628,
          1.796607494354248,
          1.957183837890625,
          2.1892752647399902,
          2.090725898742676,
          2.867553949356079
         ],
         "yaxis": "y"
        },
        {
         "hovertemplate": "<b>%{hovertext}</b><br><br>umap_hdb_cluster_labels=8<br>UMAP_x=%{x}<br>UMAP_y=%{y}<extra></extra>",
         "hovertext": [
          "P00036",
          "P00015",
          "P00019",
          "P00050",
          "P00132",
          "P00020",
          "P00003",
          "P00168",
          "P00022",
          "P00534",
          "P00476",
          "P00642",
          "P00553",
          "P00495",
          "P00410",
          "P00471",
          "P00631",
          "P00612",
          "P00260",
          "P00201",
          "P00262",
          "P00285",
          "P00295",
          "P00246",
          "P00210",
          "P00257",
          "P00391",
          "P00218"
         ],
         "legendgroup": "8",
         "marker": {
          "color": "#FF97FF",
          "symbol": "circle"
         },
         "mode": "markers",
         "name": "8",
         "orientation": "v",
         "showlegend": true,
         "type": "scatter",
         "x": [
          0.7677818536758423,
          1.1614580154418945,
          0.9107478260993958,
          0.9513373970985413,
          1.2015262842178345,
          0.9597679972648621,
          0.8704950213432312,
          1.0214377641677856,
          0.7369654774665833,
          0.5715555548667908,
          1.0781294107437134,
          0.8907925486564636,
          0.9069546461105347,
          0.817402184009552,
          0.8264482021331787,
          1.0756701231002808,
          0.9035831689834595,
          0.8700292706489563,
          0.9562155604362488,
          0.6767308115959167,
          0.9526494145393372,
          1.0437346696853638,
          1.074867606163025,
          1.3198052644729614,
          0.7720987796783447,
          0.624485969543457,
          0.6037524938583374,
          0.9924169182777405
         ],
         "xaxis": "x",
         "y": [
          3.475045919418335,
          4.22326135635376,
          4.528226375579834,
          3.830326795578003,
          4.193828582763672,
          3.747292995452881,
          4.301623344421387,
          4.087651252746582,
          4.54464054107666,
          3.829531669616699,
          3.714869260787964,
          3.9162373542785645,
          3.723294258117676,
          4.266139030456543,
          4.3637237548828125,
          4.224811553955078,
          4.2906293869018555,
          3.848313331604004,
          4.385765552520752,
          4.267853260040283,
          3.7328386306762695,
          4.22040319442749,
          3.6840760707855225,
          3.90571665763855,
          4.346750736236572,
          4.164555072784424,
          4.286870956420898,
          3.7972004413604736
         ],
         "yaxis": "y"
        },
        {
         "hovertemplate": "<b>%{hovertext}</b><br><br>umap_hdb_cluster_labels=9<br>UMAP_x=%{x}<br>UMAP_y=%{y}<extra></extra>",
         "hovertext": [
          "P00075",
          "P00007",
          "P00163",
          "P00169",
          "P00002",
          "P00165",
          "P00181",
          "P00500",
          "P00547",
          "P00623",
          "P00293",
          "P00360",
          "P00271"
         ],
         "legendgroup": "9",
         "marker": {
          "color": "#FECB52",
          "symbol": "circle"
         },
         "mode": "markers",
         "name": "9",
         "orientation": "v",
         "showlegend": true,
         "type": "scatter",
         "x": [
          -0.30872106552124023,
          -0.5450767874717712,
          -0.44479990005493164,
          -0.5090827345848083,
          -0.5902872681617737,
          -0.5181748867034912,
          -0.5563958287239075,
          -0.5445581674575806,
          -0.6088908314704895,
          -0.6292984485626221,
          -0.11097600311040878,
          -0.5922272801399231,
          -0.5688053965568542
         ],
         "xaxis": "x",
         "y": [
          4.757997035980225,
          4.879702091217041,
          4.862081527709961,
          4.909051895141602,
          4.78654670715332,
          4.89046573638916,
          4.870631217956543,
          4.873205661773682,
          4.816967010498047,
          4.811295032501221,
          4.687417984008789,
          4.799217224121094,
          4.8133320808410645
         ],
         "yaxis": "y"
        },
        {
         "hovertemplate": "<b>%{hovertext}</b><br><br>umap_hdb_cluster_labels=11<br>UMAP_x=%{x}<br>UMAP_y=%{y}<extra></extra>",
         "hovertext": [
          "P00058",
          "P00052",
          "P00128",
          "P00047",
          "P00645",
          "P00406",
          "P00577",
          "P00521",
          "P00634",
          "P00205",
          "P00215",
          "P00212",
          "P00401",
          "P00318",
          "P00302"
         ],
         "legendgroup": "11",
         "marker": {
          "color": "#636efa",
          "symbol": "circle"
         },
         "mode": "markers",
         "name": "11",
         "orientation": "v",
         "showlegend": true,
         "type": "scatter",
         "x": [
          -1.3171660900115967,
          -1.3191426992416382,
          -1.3764996528625488,
          -1.272436499595642,
          -1.3210172653198242,
          -1.2836968898773193,
          -1.189941644668579,
          -1.2053382396697998,
          -1.1612393856048584,
          -0.9732146859169006,
          -1.1787183284759521,
          -1.3108934164047241,
          -1.358499526977539,
          -1.0713818073272705,
          -1.3036051988601685
         ],
         "xaxis": "x",
         "y": [
          3.411696195602417,
          3.3607211112976074,
          3.303163766860962,
          3.3626999855041504,
          3.4161813259124756,
          3.4119489192962646,
          3.528961658477783,
          3.5168025493621826,
          3.50970721244812,
          3.863370656967163,
          3.5021660327911377,
          3.452676296234131,
          3.337653398513794,
          3.654301166534424,
          3.446357250213623
         ],
         "yaxis": "y"
        },
        {
         "hovertemplate": "<b>%{hovertext}</b><br><br>umap_hdb_cluster_labels=3<br>UMAP_x=%{x}<br>UMAP_y=%{y}<extra></extra>",
         "hovertext": [
          "P00048",
          "P00106",
          "P00159",
          "P00194",
          "P00182",
          "P00017",
          "P00174",
          "P00152",
          "P00028",
          "P00049",
          "P00135",
          "P00101",
          "P00056",
          "P00014",
          "P00068",
          "P00179",
          "P00172",
          "P00070",
          "P00103",
          "P00503",
          "P00483",
          "P00646",
          "P00543",
          "P00459",
          "P00626",
          "P00599",
          "P00486",
          "P00640",
          "P00586",
          "P00453",
          "P00545",
          "P00505",
          "P00665",
          "P00496",
          "P00468",
          "P00416",
          "P00464",
          "P00237",
          "P00366",
          "P00219",
          "P00382",
          "P00326",
          "P00344",
          "P00298",
          "P00393",
          "P00226",
          "P00380",
          "P00287"
         ],
         "legendgroup": "3",
         "marker": {
          "color": "#EF553B",
          "symbol": "circle"
         },
         "mode": "markers",
         "name": "3",
         "orientation": "v",
         "showlegend": true,
         "type": "scatter",
         "x": [
          3.5021674633026123,
          3.7076873779296875,
          4.219139575958252,
          3.9042999744415283,
          3.9750618934631348,
          3.7429745197296143,
          3.7339789867401123,
          3.8095908164978027,
          4.133000373840332,
          4.476914882659912,
          4.226367473602295,
          4.162231922149658,
          4.251287460327148,
          4.335771560668945,
          3.635960102081299,
          3.870128870010376,
          3.709348678588867,
          4.262646198272705,
          4.283944606781006,
          3.6939923763275146,
          3.7654759883880615,
          3.7274904251098633,
          4.213916301727295,
          4.444375038146973,
          3.632138729095459,
          4.55000638961792,
          3.9046332836151123,
          4.271611213684082,
          4.501363277435303,
          4.465798854827881,
          3.8725576400756836,
          4.143620014190674,
          4.284006595611572,
          4.007389068603516,
          4.170729637145996,
          3.5248587131500244,
          4.061390399932861,
          3.391195297241211,
          4.445260524749756,
          4.020781517028809,
          4.169283866882324,
          3.9575247764587402,
          3.4825048446655273,
          4.185849666595459,
          3.7965028285980225,
          4.432465553283691,
          4.2244462966918945,
          4.015164852142334
         ],
         "xaxis": "x",
         "y": [
          2.762887716293335,
          2.5057425498962402,
          2.317214012145996,
          2.10019588470459,
          2.0915071964263916,
          2.7836616039276123,
          2.923637866973877,
          2.806469678878784,
          3.0366852283477783,
          2.888326644897461,
          3.101151943206787,
          2.75217604637146,
          2.631354331970215,
          2.9242019653320312,
          3.0523810386657715,
          2.7505548000335693,
          2.890251874923706,
          3.084091901779175,
          3.039379119873047,
          2.4001455307006836,
          2.8047375679016113,
          2.4445407390594482,
          2.2885591983795166,
          2.5673911571502686,
          3.0032291412353516,
          2.358181953430176,
          2.1765646934509277,
          2.6380200386047363,
          2.2908871173858643,
          2.860008955001831,
          2.16430401802063,
          2.357423782348633,
          2.9956247806549072,
          2.5675172805786133,
          3.1143293380737305,
          2.7323672771453857,
          2.1299350261688232,
          2.9573802947998047,
          2.5964410305023193,
          2.0753562450408936,
          3.074204683303833,
          2.6831562519073486,
          2.681387186050415,
          2.2661292552948,
          2.8485918045043945,
          2.9143810272216797,
          3.098541736602783,
          2.0236945152282715
         ],
         "yaxis": "y"
        },
        {
         "hovertemplate": "<b>%{hovertext}</b><br><br>umap_hdb_cluster_labels=0<br>UMAP_x=%{x}<br>UMAP_y=%{y}<extra></extra>",
         "hovertext": [
          "P00113",
          "P00012",
          "P00190",
          "P00077",
          "P00413",
          "P00512",
          "P00509",
          "P00461",
          "P00363",
          "P00386",
          "P00296",
          "P00371",
          "P00301",
          "P00231"
         ],
         "legendgroup": "0",
         "marker": {
          "color": "#00cc96",
          "symbol": "circle"
         },
         "mode": "markers",
         "name": "0",
         "orientation": "v",
         "showlegend": true,
         "type": "scatter",
         "x": [
          3.7605059146881104,
          3.800921678543091,
          3.732808828353882,
          3.9176909923553467,
          3.874087333679199,
          3.85745906829834,
          3.7681772708892822,
          3.8713908195495605,
          3.7453229427337646,
          3.852234363555908,
          3.7296884059906006,
          3.944018602371216,
          4.029048442840576,
          3.8214361667633057
         ],
         "xaxis": "x",
         "y": [
          3.9143221378326416,
          3.8377981185913086,
          3.8914990425109863,
          3.6957759857177734,
          3.625298023223877,
          3.762352228164673,
          3.8940670490264893,
          3.605661153793335,
          4.01849889755249,
          3.5725502967834473,
          4.029860019683838,
          3.649125814437866,
          3.5955495834350586,
          3.52207350730896
         ],
         "yaxis": "y"
        },
        {
         "hovertemplate": "<b>%{hovertext}</b><br><br>umap_hdb_cluster_labels=12<br>UMAP_x=%{x}<br>UMAP_y=%{y}<extra></extra>",
         "hovertext": [
          "P00149",
          "P00170",
          "P00484",
          "P00582",
          "P00563",
          "P00247",
          "P00278",
          "P00240",
          "P00372",
          "P00369",
          "P00234"
         ],
         "legendgroup": "12",
         "marker": {
          "color": "#ab63fa",
          "symbol": "circle"
         },
         "mode": "markers",
         "name": "12",
         "orientation": "v",
         "showlegend": true,
         "type": "scatter",
         "x": [
          -1.0446933507919312,
          -0.8186767101287842,
          -0.8643497228622437,
          -1.0049779415130615,
          -1.0854564905166626,
          -1.1576874256134033,
          -1.035585641860962,
          -1.0109477043151855,
          -1.1578245162963867,
          -1.0439189672470093,
          -0.9567450881004333
         ],
         "xaxis": "x",
         "y": [
          4.069324970245361,
          4.232145309448242,
          4.1888628005981445,
          4.114004611968994,
          4.103216171264648,
          4.312890529632568,
          4.0436930656433105,
          4.134022235870361,
          4.167191505432129,
          4.05993127822876,
          4.142822265625
         ],
         "yaxis": "y"
        }
       ],
       "layout": {
        "legend": {
         "title": {
          "text": "umap_hdb_cluster_labels"
         },
         "tracegroupgap": 0
        },
        "template": {
         "data": {
          "bar": [
           {
            "error_x": {
             "color": "#2a3f5f"
            },
            "error_y": {
             "color": "#2a3f5f"
            },
            "marker": {
             "line": {
              "color": "#E5ECF6",
              "width": 0.5
             },
             "pattern": {
              "fillmode": "overlay",
              "size": 10,
              "solidity": 0.2
             }
            },
            "type": "bar"
           }
          ],
          "barpolar": [
           {
            "marker": {
             "line": {
              "color": "#E5ECF6",
              "width": 0.5
             },
             "pattern": {
              "fillmode": "overlay",
              "size": 10,
              "solidity": 0.2
             }
            },
            "type": "barpolar"
           }
          ],
          "carpet": [
           {
            "aaxis": {
             "endlinecolor": "#2a3f5f",
             "gridcolor": "white",
             "linecolor": "white",
             "minorgridcolor": "white",
             "startlinecolor": "#2a3f5f"
            },
            "baxis": {
             "endlinecolor": "#2a3f5f",
             "gridcolor": "white",
             "linecolor": "white",
             "minorgridcolor": "white",
             "startlinecolor": "#2a3f5f"
            },
            "type": "carpet"
           }
          ],
          "choropleth": [
           {
            "colorbar": {
             "outlinewidth": 0,
             "ticks": ""
            },
            "type": "choropleth"
           }
          ],
          "contour": [
           {
            "colorbar": {
             "outlinewidth": 0,
             "ticks": ""
            },
            "colorscale": [
             [
              0,
              "#0d0887"
             ],
             [
              0.1111111111111111,
              "#46039f"
             ],
             [
              0.2222222222222222,
              "#7201a8"
             ],
             [
              0.3333333333333333,
              "#9c179e"
             ],
             [
              0.4444444444444444,
              "#bd3786"
             ],
             [
              0.5555555555555556,
              "#d8576b"
             ],
             [
              0.6666666666666666,
              "#ed7953"
             ],
             [
              0.7777777777777778,
              "#fb9f3a"
             ],
             [
              0.8888888888888888,
              "#fdca26"
             ],
             [
              1,
              "#f0f921"
             ]
            ],
            "type": "contour"
           }
          ],
          "contourcarpet": [
           {
            "colorbar": {
             "outlinewidth": 0,
             "ticks": ""
            },
            "type": "contourcarpet"
           }
          ],
          "heatmap": [
           {
            "colorbar": {
             "outlinewidth": 0,
             "ticks": ""
            },
            "colorscale": [
             [
              0,
              "#0d0887"
             ],
             [
              0.1111111111111111,
              "#46039f"
             ],
             [
              0.2222222222222222,
              "#7201a8"
             ],
             [
              0.3333333333333333,
              "#9c179e"
             ],
             [
              0.4444444444444444,
              "#bd3786"
             ],
             [
              0.5555555555555556,
              "#d8576b"
             ],
             [
              0.6666666666666666,
              "#ed7953"
             ],
             [
              0.7777777777777778,
              "#fb9f3a"
             ],
             [
              0.8888888888888888,
              "#fdca26"
             ],
             [
              1,
              "#f0f921"
             ]
            ],
            "type": "heatmap"
           }
          ],
          "heatmapgl": [
           {
            "colorbar": {
             "outlinewidth": 0,
             "ticks": ""
            },
            "colorscale": [
             [
              0,
              "#0d0887"
             ],
             [
              0.1111111111111111,
              "#46039f"
             ],
             [
              0.2222222222222222,
              "#7201a8"
             ],
             [
              0.3333333333333333,
              "#9c179e"
             ],
             [
              0.4444444444444444,
              "#bd3786"
             ],
             [
              0.5555555555555556,
              "#d8576b"
             ],
             [
              0.6666666666666666,
              "#ed7953"
             ],
             [
              0.7777777777777778,
              "#fb9f3a"
             ],
             [
              0.8888888888888888,
              "#fdca26"
             ],
             [
              1,
              "#f0f921"
             ]
            ],
            "type": "heatmapgl"
           }
          ],
          "histogram": [
           {
            "marker": {
             "pattern": {
              "fillmode": "overlay",
              "size": 10,
              "solidity": 0.2
             }
            },
            "type": "histogram"
           }
          ],
          "histogram2d": [
           {
            "colorbar": {
             "outlinewidth": 0,
             "ticks": ""
            },
            "colorscale": [
             [
              0,
              "#0d0887"
             ],
             [
              0.1111111111111111,
              "#46039f"
             ],
             [
              0.2222222222222222,
              "#7201a8"
             ],
             [
              0.3333333333333333,
              "#9c179e"
             ],
             [
              0.4444444444444444,
              "#bd3786"
             ],
             [
              0.5555555555555556,
              "#d8576b"
             ],
             [
              0.6666666666666666,
              "#ed7953"
             ],
             [
              0.7777777777777778,
              "#fb9f3a"
             ],
             [
              0.8888888888888888,
              "#fdca26"
             ],
             [
              1,
              "#f0f921"
             ]
            ],
            "type": "histogram2d"
           }
          ],
          "histogram2dcontour": [
           {
            "colorbar": {
             "outlinewidth": 0,
             "ticks": ""
            },
            "colorscale": [
             [
              0,
              "#0d0887"
             ],
             [
              0.1111111111111111,
              "#46039f"
             ],
             [
              0.2222222222222222,
              "#7201a8"
             ],
             [
              0.3333333333333333,
              "#9c179e"
             ],
             [
              0.4444444444444444,
              "#bd3786"
             ],
             [
              0.5555555555555556,
              "#d8576b"
             ],
             [
              0.6666666666666666,
              "#ed7953"
             ],
             [
              0.7777777777777778,
              "#fb9f3a"
             ],
             [
              0.8888888888888888,
              "#fdca26"
             ],
             [
              1,
              "#f0f921"
             ]
            ],
            "type": "histogram2dcontour"
           }
          ],
          "mesh3d": [
           {
            "colorbar": {
             "outlinewidth": 0,
             "ticks": ""
            },
            "type": "mesh3d"
           }
          ],
          "parcoords": [
           {
            "line": {
             "colorbar": {
              "outlinewidth": 0,
              "ticks": ""
             }
            },
            "type": "parcoords"
           }
          ],
          "pie": [
           {
            "automargin": true,
            "type": "pie"
           }
          ],
          "scatter": [
           {
            "fillpattern": {
             "fillmode": "overlay",
             "size": 10,
             "solidity": 0.2
            },
            "type": "scatter"
           }
          ],
          "scatter3d": [
           {
            "line": {
             "colorbar": {
              "outlinewidth": 0,
              "ticks": ""
             }
            },
            "marker": {
             "colorbar": {
              "outlinewidth": 0,
              "ticks": ""
             }
            },
            "type": "scatter3d"
           }
          ],
          "scattercarpet": [
           {
            "marker": {
             "colorbar": {
              "outlinewidth": 0,
              "ticks": ""
             }
            },
            "type": "scattercarpet"
           }
          ],
          "scattergeo": [
           {
            "marker": {
             "colorbar": {
              "outlinewidth": 0,
              "ticks": ""
             }
            },
            "type": "scattergeo"
           }
          ],
          "scattergl": [
           {
            "marker": {
             "colorbar": {
              "outlinewidth": 0,
              "ticks": ""
             }
            },
            "type": "scattergl"
           }
          ],
          "scattermapbox": [
           {
            "marker": {
             "colorbar": {
              "outlinewidth": 0,
              "ticks": ""
             }
            },
            "type": "scattermapbox"
           }
          ],
          "scatterpolar": [
           {
            "marker": {
             "colorbar": {
              "outlinewidth": 0,
              "ticks": ""
             }
            },
            "type": "scatterpolar"
           }
          ],
          "scatterpolargl": [
           {
            "marker": {
             "colorbar": {
              "outlinewidth": 0,
              "ticks": ""
             }
            },
            "type": "scatterpolargl"
           }
          ],
          "scatterternary": [
           {
            "marker": {
             "colorbar": {
              "outlinewidth": 0,
              "ticks": ""
             }
            },
            "type": "scatterternary"
           }
          ],
          "surface": [
           {
            "colorbar": {
             "outlinewidth": 0,
             "ticks": ""
            },
            "colorscale": [
             [
              0,
              "#0d0887"
             ],
             [
              0.1111111111111111,
              "#46039f"
             ],
             [
              0.2222222222222222,
              "#7201a8"
             ],
             [
              0.3333333333333333,
              "#9c179e"
             ],
             [
              0.4444444444444444,
              "#bd3786"
             ],
             [
              0.5555555555555556,
              "#d8576b"
             ],
             [
              0.6666666666666666,
              "#ed7953"
             ],
             [
              0.7777777777777778,
              "#fb9f3a"
             ],
             [
              0.8888888888888888,
              "#fdca26"
             ],
             [
              1,
              "#f0f921"
             ]
            ],
            "type": "surface"
           }
          ],
          "table": [
           {
            "cells": {
             "fill": {
              "color": "#EBF0F8"
             },
             "line": {
              "color": "white"
             }
            },
            "header": {
             "fill": {
              "color": "#C8D4E3"
             },
             "line": {
              "color": "white"
             }
            },
            "type": "table"
           }
          ]
         },
         "layout": {
          "annotationdefaults": {
           "arrowcolor": "#2a3f5f",
           "arrowhead": 0,
           "arrowwidth": 1
          },
          "autotypenumbers": "strict",
          "coloraxis": {
           "colorbar": {
            "outlinewidth": 0,
            "ticks": ""
           }
          },
          "colorscale": {
           "diverging": [
            [
             0,
             "#8e0152"
            ],
            [
             0.1,
             "#c51b7d"
            ],
            [
             0.2,
             "#de77ae"
            ],
            [
             0.3,
             "#f1b6da"
            ],
            [
             0.4,
             "#fde0ef"
            ],
            [
             0.5,
             "#f7f7f7"
            ],
            [
             0.6,
             "#e6f5d0"
            ],
            [
             0.7,
             "#b8e186"
            ],
            [
             0.8,
             "#7fbc41"
            ],
            [
             0.9,
             "#4d9221"
            ],
            [
             1,
             "#276419"
            ]
           ],
           "sequential": [
            [
             0,
             "#0d0887"
            ],
            [
             0.1111111111111111,
             "#46039f"
            ],
            [
             0.2222222222222222,
             "#7201a8"
            ],
            [
             0.3333333333333333,
             "#9c179e"
            ],
            [
             0.4444444444444444,
             "#bd3786"
            ],
            [
             0.5555555555555556,
             "#d8576b"
            ],
            [
             0.6666666666666666,
             "#ed7953"
            ],
            [
             0.7777777777777778,
             "#fb9f3a"
            ],
            [
             0.8888888888888888,
             "#fdca26"
            ],
            [
             1,
             "#f0f921"
            ]
           ],
           "sequentialminus": [
            [
             0,
             "#0d0887"
            ],
            [
             0.1111111111111111,
             "#46039f"
            ],
            [
             0.2222222222222222,
             "#7201a8"
            ],
            [
             0.3333333333333333,
             "#9c179e"
            ],
            [
             0.4444444444444444,
             "#bd3786"
            ],
            [
             0.5555555555555556,
             "#d8576b"
            ],
            [
             0.6666666666666666,
             "#ed7953"
            ],
            [
             0.7777777777777778,
             "#fb9f3a"
            ],
            [
             0.8888888888888888,
             "#fdca26"
            ],
            [
             1,
             "#f0f921"
            ]
           ]
          },
          "colorway": [
           "#636efa",
           "#EF553B",
           "#00cc96",
           "#ab63fa",
           "#FFA15A",
           "#19d3f3",
           "#FF6692",
           "#B6E880",
           "#FF97FF",
           "#FECB52"
          ],
          "font": {
           "color": "#2a3f5f"
          },
          "geo": {
           "bgcolor": "white",
           "lakecolor": "white",
           "landcolor": "#E5ECF6",
           "showlakes": true,
           "showland": true,
           "subunitcolor": "white"
          },
          "hoverlabel": {
           "align": "left"
          },
          "hovermode": "closest",
          "mapbox": {
           "style": "light"
          },
          "paper_bgcolor": "white",
          "plot_bgcolor": "#E5ECF6",
          "polar": {
           "angularaxis": {
            "gridcolor": "white",
            "linecolor": "white",
            "ticks": ""
           },
           "bgcolor": "#E5ECF6",
           "radialaxis": {
            "gridcolor": "white",
            "linecolor": "white",
            "ticks": ""
           }
          },
          "scene": {
           "xaxis": {
            "backgroundcolor": "#E5ECF6",
            "gridcolor": "white",
            "gridwidth": 2,
            "linecolor": "white",
            "showbackground": true,
            "ticks": "",
            "zerolinecolor": "white"
           },
           "yaxis": {
            "backgroundcolor": "#E5ECF6",
            "gridcolor": "white",
            "gridwidth": 2,
            "linecolor": "white",
            "showbackground": true,
            "ticks": "",
            "zerolinecolor": "white"
           },
           "zaxis": {
            "backgroundcolor": "#E5ECF6",
            "gridcolor": "white",
            "gridwidth": 2,
            "linecolor": "white",
            "showbackground": true,
            "ticks": "",
            "zerolinecolor": "white"
           }
          },
          "shapedefaults": {
           "line": {
            "color": "#2a3f5f"
           }
          },
          "ternary": {
           "aaxis": {
            "gridcolor": "white",
            "linecolor": "white",
            "ticks": ""
           },
           "baxis": {
            "gridcolor": "white",
            "linecolor": "white",
            "ticks": ""
           },
           "bgcolor": "#E5ECF6",
           "caxis": {
            "gridcolor": "white",
            "linecolor": "white",
            "ticks": ""
           }
          },
          "title": {
           "x": 0.05
          },
          "xaxis": {
           "automargin": true,
           "gridcolor": "white",
           "linecolor": "white",
           "ticks": "",
           "title": {
            "standoff": 15
           },
           "zerolinecolor": "white",
           "zerolinewidth": 2
          },
          "yaxis": {
           "automargin": true,
           "gridcolor": "white",
           "linecolor": "white",
           "ticks": "",
           "title": {
            "standoff": 15
           },
           "zerolinecolor": "white",
           "zerolinewidth": 2
          }
         }
        },
        "title": {
         "text": "UMAP dimensionality reduction + DBscan clustering"
        },
        "xaxis": {
         "anchor": "y",
         "domain": [
          0,
          1
         ],
         "title": {
          "text": "UMAP_x"
         }
        },
        "yaxis": {
         "anchor": "x",
         "domain": [
          0,
          1
         ],
         "title": {
          "text": "UMAP_y"
         }
        }
       }
      }
     },
     "metadata": {},
     "output_type": "display_data"
    }
   ],
   "source": [
    "px.scatter(data_frame=hla_df.reset_index(), x=\"UMAP_x\", y=\"UMAP_y\", hover_name=\"sample_name\", color=\"umap_hdb_cluster_labels\", title=\"UMAP dimensionality reduction + DBscan clustering\")"
   ]
  },
  {
   "cell_type": "code",
   "execution_count": 15,
   "metadata": {},
   "outputs": [
    {
     "data": {
      "application/vnd.plotly.v1+json": {
       "config": {
        "plotlyServerURL": "https://plot.ly"
       },
       "data": [
        {
         "hovertemplate": "<b>%{hovertext}</b><br><br>kmeans_cluster_labels=6<br>UMAP_x=%{x}<br>UMAP_y=%{y}<extra></extra>",
         "hovertext": [
          "P00030",
          "P00092",
          "P00036",
          "P00198",
          "P00058",
          "P00124",
          "P00052",
          "P00028",
          "P00060",
          "P00128",
          "P00156",
          "P00047",
          "P00134",
          "P00200",
          "P00123",
          "P00534",
          "P00645",
          "P00406",
          "P00428",
          "P00577",
          "P00488",
          "P00566",
          "P00521",
          "P00634",
          "P00630",
          "P00403",
          "P00249",
          "P00274",
          "P00215",
          "P00212",
          "P00310",
          "P00401",
          "P00318",
          "P00252",
          "P00267",
          "P00302",
          "P00321",
          "P00341"
         ],
         "legendgroup": "6",
         "marker": {
          "color": "#636efa",
          "symbol": "circle"
         },
         "mode": "markers",
         "name": "6",
         "orientation": "v",
         "showlegend": true,
         "type": "scatter",
         "x": [
          1.4451102018356323,
          1.736985445022583,
          0.7677818536758423,
          -0.2711344063282013,
          -1.3171660900115967,
          0.7312219142913818,
          -1.3191426992416382,
          4.133000373840332,
          0.8508620262145996,
          -1.3764996528625488,
          1.6340761184692383,
          -1.272436499595642,
          1.2695988416671753,
          -0.8569005131721497,
          0.8205548524856567,
          0.5715555548667908,
          -1.3210172653198242,
          -1.2836968898773193,
          -0.25592806935310364,
          -1.189941644668579,
          1.3407186269760132,
          1.8774678707122803,
          -1.2053382396697998,
          -1.1612393856048584,
          0.8040165901184082,
          0.5424200296401978,
          1.8374327421188354,
          -0.27413275837898254,
          -1.1787183284759521,
          -1.3108934164047241,
          0.7689954042434692,
          -1.358499526977539,
          -1.0713818073272705,
          1.628533959388733,
          1.7646716833114624,
          -1.3036051988601685,
          1.2656713724136353,
          0.7184008359909058
         ],
         "xaxis": "x",
         "y": [
          3.3080992698669434,
          3.6057348251342773,
          3.475045919418335,
          3.5675809383392334,
          3.411696195602417,
          5.70005989074707,
          3.3607211112976074,
          3.0366852283477783,
          5.780852794647217,
          3.303163766860962,
          3.430036783218384,
          3.3626999855041504,
          3.3304829597473145,
          3.497734308242798,
          5.622375965118408,
          3.829531669616699,
          3.4161813259124756,
          3.4119489192962646,
          3.567631721496582,
          3.528961658477783,
          3.2317185401916504,
          2.775954484939575,
          3.5168025493621826,
          3.50970721244812,
          5.761927127838135,
          3.8217525482177734,
          3.5121665000915527,
          3.5059549808502197,
          3.5021660327911377,
          3.452676296234131,
          3.351940631866455,
          3.337653398513794,
          3.654301166534424,
          3.4803273677825928,
          3.7603466510772705,
          3.446357250213623,
          3.301842212677002,
          3.419701337814331
         ],
         "yaxis": "y"
        },
        {
         "hovertemplate": "<b>%{hovertext}</b><br><br>kmeans_cluster_labels=1<br>UMAP_x=%{x}<br>UMAP_y=%{y}<extra></extra>",
         "hovertext": [
          "P00061",
          "P00027",
          "P00046",
          "P00154",
          "P00573",
          "P00456",
          "P00598",
          "P00418",
          "P00462",
          "P00615",
          "P00474",
          "P00579",
          "P00211",
          "P00236",
          "P00358",
          "P00241",
          "P00225",
          "P00238"
         ],
         "legendgroup": "1",
         "marker": {
          "color": "#EF553B",
          "symbol": "circle"
         },
         "mode": "markers",
         "name": "1",
         "orientation": "v",
         "showlegend": true,
         "type": "scatter",
         "x": [
          5.117915153503418,
          5.0714497566223145,
          5.272237777709961,
          5.142323017120361,
          5.259835720062256,
          5.202905654907227,
          5.3055877685546875,
          5.074051380157471,
          5.081236839294434,
          5.156131744384766,
          5.341660976409912,
          5.248561859130859,
          5.232096195220947,
          5.305643081665039,
          5.137458801269531,
          5.197359085083008,
          5.0444512367248535,
          5.026642799377441
         ],
         "xaxis": "x",
         "y": [
          1.8965908288955688,
          2.1808178424835205,
          1.9253908395767212,
          1.9872283935546875,
          1.799399733543396,
          1.916717290878296,
          1.8271533250808716,
          2.198659896850586,
          2.0456063747406006,
          1.9880316257476807,
          1.7837343215942383,
          1.8780732154846191,
          1.8647539615631104,
          1.823364496231079,
          1.9867913722991943,
          1.9572761058807373,
          2.1131105422973633,
          2.1090288162231445
         ],
         "yaxis": "y"
        },
        {
         "hovertemplate": "<b>%{hovertext}</b><br><br>kmeans_cluster_labels=9<br>UMAP_x=%{x}<br>UMAP_y=%{y}<extra></extra>",
         "hovertext": [
          "P00127",
          "P00121",
          "P00048",
          "P00106",
          "P00186",
          "P00113",
          "P00017",
          "P00174",
          "P00012",
          "P00152",
          "P00049",
          "P00135",
          "P00117",
          "P00101",
          "P00056",
          "P00014",
          "P00068",
          "P00179",
          "P00172",
          "P00190",
          "P00077",
          "P00139",
          "P00038",
          "P00070",
          "P00103",
          "P00503",
          "P00483",
          "P00538",
          "P00466",
          "P00651",
          "P00646",
          "P00459",
          "P00467",
          "P00554",
          "P00479",
          "P00650",
          "P00626",
          "P00413",
          "P00599",
          "P00510",
          "P00512",
          "P00557",
          "P00640",
          "P00586",
          "P00453",
          "P00509",
          "P00665",
          "P00496",
          "P00468",
          "P00461",
          "P00416",
          "P00552",
          "P00654",
          "P00237",
          "P00343",
          "P00366",
          "P00386",
          "P00382",
          "P00326",
          "P00344",
          "P00235",
          "P00393",
          "P00226",
          "P00381",
          "P00375",
          "P00346",
          "P00380",
          "P00371",
          "P00340",
          "P00209",
          "P00301",
          "P00231"
         ],
         "legendgroup": "9",
         "marker": {
          "color": "#00cc96",
          "symbol": "circle"
         },
         "mode": "markers",
         "name": "9",
         "orientation": "v",
         "showlegend": true,
         "type": "scatter",
         "x": [
          3.0133700370788574,
          3.2561514377593994,
          3.5021674633026123,
          3.7076873779296875,
          3.1255571842193604,
          3.7605059146881104,
          3.7429745197296143,
          3.7339789867401123,
          3.800921678543091,
          3.8095908164978027,
          4.476914882659912,
          4.226367473602295,
          4.727517127990723,
          4.162231922149658,
          4.251287460327148,
          4.335771560668945,
          3.635960102081299,
          3.870128870010376,
          3.709348678588867,
          3.732808828353882,
          3.9176909923553467,
          2.418039321899414,
          3.0525646209716797,
          4.262646198272705,
          4.283944606781006,
          3.6939923763275146,
          3.7654759883880615,
          3.2980642318725586,
          3.077929973602295,
          3.156473159790039,
          3.7274904251098633,
          4.444375038146973,
          3.1057796478271484,
          3.30073618888855,
          3.227630376815796,
          3.3254752159118652,
          3.632138729095459,
          3.874087333679199,
          4.55000638961792,
          3.051074266433716,
          3.85745906829834,
          4.762287139892578,
          4.271611213684082,
          4.501363277435303,
          4.465798854827881,
          3.7681772708892822,
          4.284006595611572,
          4.007389068603516,
          4.170729637145996,
          3.8713908195495605,
          3.5248587131500244,
          3.250666856765747,
          3.6269662380218506,
          3.391195297241211,
          4.706709861755371,
          4.445260524749756,
          3.852234363555908,
          4.169283866882324,
          3.9575247764587402,
          3.4825048446655273,
          2.660936117172241,
          3.7965028285980225,
          4.432465553283691,
          3.05488657951355,
          3.1504428386688232,
          3.157528877258301,
          4.2244462966918945,
          3.944018602371216,
          4.661377906799316,
          3.1241683959960938,
          4.029048442840576,
          3.8214361667633057
         ],
         "xaxis": "x",
         "y": [
          1.9929486513137817,
          2.2556660175323486,
          2.762887716293335,
          2.5057425498962402,
          2.0863075256347656,
          3.9143221378326416,
          2.7836616039276123,
          2.923637866973877,
          3.8377981185913086,
          2.806469678878784,
          2.888326644897461,
          3.101151943206787,
          2.5815298557281494,
          2.75217604637146,
          2.631354331970215,
          2.9242019653320312,
          3.0523810386657715,
          2.7505548000335693,
          2.890251874923706,
          3.8914990425109863,
          3.6957759857177734,
          3.2580738067626953,
          2.008089065551758,
          3.084091901779175,
          3.039379119873047,
          2.4001455307006836,
          2.8047375679016113,
          2.9693503379821777,
          2.03975510597229,
          2.1430814266204834,
          2.4445407390594482,
          2.5673911571502686,
          2.0880508422851562,
          2.965487480163574,
          2.1292505264282227,
          2.2749412059783936,
          3.0032291412353516,
          3.625298023223877,
          2.358181953430176,
          3.139505386352539,
          3.762352228164673,
          2.1354377269744873,
          2.6380200386047363,
          2.2908871173858643,
          2.860008955001831,
          3.8940670490264893,
          2.9956247806549072,
          2.5675172805786133,
          3.1143293380737305,
          3.605661153793335,
          2.7323672771453857,
          3.026027202606201,
          2.3028857707977295,
          2.9573802947998047,
          2.168700695037842,
          2.5964410305023193,
          3.5725502967834473,
          3.074204683303833,
          2.6831562519073486,
          2.681387186050415,
          3.0590872764587402,
          2.8485918045043945,
          2.9143810272216797,
          2.0850627422332764,
          2.140932559967041,
          2.1511683464050293,
          3.098541736602783,
          3.649125814437866,
          2.515479564666748,
          2.0952203273773193,
          3.5955495834350586,
          3.52207350730896
         ],
         "yaxis": "y"
        },
        {
         "hovertemplate": "<b>%{hovertext}</b><br><br>kmeans_cluster_labels=8<br>UMAP_x=%{x}<br>UMAP_y=%{y}<extra></extra>",
         "hovertext": [
          "P00175",
          "P00078",
          "P00126",
          "P00007",
          "P00090",
          "P00137",
          "P00138",
          "P00085",
          "P00149",
          "P00169",
          "P00002",
          "P00170",
          "P00045",
          "P00026",
          "P00165",
          "P00116",
          "P00181",
          "P00463",
          "P00607",
          "P00500",
          "P00501",
          "P00558",
          "P00425",
          "P00622",
          "P00484",
          "P00550",
          "P00582",
          "P00547",
          "P00623",
          "P00445",
          "P00567",
          "P00455",
          "P00542",
          "P00563",
          "P00569",
          "P00412",
          "P00613",
          "P00661",
          "P00247",
          "P00205",
          "P00297",
          "P00229",
          "P00206",
          "P00360",
          "P00282",
          "P00242",
          "P00278",
          "P00308",
          "P00244",
          "P00347",
          "P00240",
          "P00372",
          "P00369",
          "P00271",
          "P00384",
          "P00234"
         ],
         "legendgroup": "8",
         "marker": {
          "color": "#ab63fa",
          "symbol": "circle"
         },
         "mode": "markers",
         "name": "8",
         "orientation": "v",
         "showlegend": true,
         "type": "scatter",
         "x": [
          -0.4634353518486023,
          -0.3280761241912842,
          -1.1994702816009521,
          -0.5450767874717712,
          -0.8758185505867004,
          -1.2670496702194214,
          -1.1385583877563477,
          -1.209102749824524,
          -1.0446933507919312,
          -0.5090827345848083,
          -0.5902872681617737,
          -0.8186767101287842,
          -0.6274886727333069,
          0.22225721180438995,
          -0.5181748867034912,
          -0.2990407347679138,
          -0.5563958287239075,
          -0.07959666848182678,
          0.005415875930339098,
          -0.5445581674575806,
          -0.25012731552124023,
          -0.016239983960986137,
          -0.3596743047237396,
          0.2846059799194336,
          -0.8643497228622437,
          -0.3663058280944824,
          -1.0049779415130615,
          -0.6088908314704895,
          -0.6292984485626221,
          -0.07339216768741608,
          -0.09694764018058777,
          -0.10432639718055725,
          -1.263017177581787,
          -1.0854564905166626,
          0.20343580842018127,
          -0.14951463043689728,
          -0.7029426693916321,
          0.19062821567058563,
          -1.1576874256134033,
          -0.9732146859169006,
          -0.029855281114578247,
          -0.07855624705553055,
          -1.1697057485580444,
          -0.5922272801399231,
          -0.021463317796587944,
          0.19768868386745453,
          -1.035585641860962,
          -0.329075425863266,
          0.13416919112205505,
          -0.04828623682260513,
          -1.0109477043151855,
          -1.1578245162963867,
          -1.0439189672470093,
          -0.5688053965568542,
          -0.01786603033542633,
          -0.9567450881004333
         ],
         "xaxis": "x",
         "y": [
          4.1950483322143555,
          6.449782848358154,
          4.389451503753662,
          4.879702091217041,
          3.7007997035980225,
          4.56198787689209,
          4.425896644592285,
          4.518336296081543,
          4.069324970245361,
          4.909051895141602,
          4.78654670715332,
          4.232145309448242,
          4.065937042236328,
          6.704555988311768,
          4.89046573638916,
          4.434723377227783,
          4.870631217956543,
          6.026676177978516,
          6.519777297973633,
          4.873205661773682,
          4.345153331756592,
          6.491091251373291,
          4.412567615509033,
          6.582936763763428,
          4.1888628005981445,
          4.435241222381592,
          4.114004611968994,
          4.816967010498047,
          4.811295032501221,
          6.123115539550781,
          6.029849052429199,
          6.04168176651001,
          4.519913673400879,
          4.103216171264648,
          6.698758602142334,
          4.32452392578125,
          2.8877975940704346,
          6.449481964111328,
          4.312890529632568,
          3.863370656967163,
          6.513973236083984,
          6.463725566864014,
          4.574141979217529,
          4.799217224121094,
          6.488134384155273,
          6.631183624267578,
          4.0436930656433105,
          4.407712459564209,
          6.604877948760986,
          6.013484477996826,
          4.134022235870361,
          4.167191505432129,
          4.05993127822876,
          4.8133320808410645,
          6.605031967163086,
          4.142822265625
         ],
         "yaxis": "y"
        },
        {
         "hovertemplate": "<b>%{hovertext}</b><br><br>kmeans_cluster_labels=0<br>UMAP_x=%{x}<br>UMAP_y=%{y}<extra></extra>",
         "hovertext": [
          "P00173",
          "P00039",
          "P00004",
          "P00136",
          "P00546",
          "P00502",
          "P00595",
          "P00559",
          "P00596",
          "P00611",
          "P00590",
          "P00268",
          "P00263",
          "P00220",
          "P00389"
         ],
         "legendgroup": "0",
         "marker": {
          "color": "#FFA15A",
          "symbol": "circle"
         },
         "mode": "markers",
         "name": "0",
         "orientation": "v",
         "showlegend": true,
         "type": "scatter",
         "x": [
          -0.48089709877967834,
          -0.6888139247894287,
          -0.6148638725280762,
          -0.6178408861160278,
          0.32871168851852417,
          -0.5440621972084045,
          -0.5504851341247559,
          -0.5167926549911499,
          -0.458939790725708,
          -0.5429044961929321,
          -0.5161685347557068,
          -0.6815477013587952,
          -0.603173017501831,
          -0.5723010897636414,
          -0.5078142881393433
         ],
         "xaxis": "x",
         "y": [
          2.4818007946014404,
          2.6607890129089355,
          2.434443235397339,
          2.445809841156006,
          2.0348544120788574,
          2.39858078956604,
          2.412921190261841,
          2.3809659481048584,
          2.307234048843384,
          2.3933334350585938,
          2.405075788497925,
          2.6776084899902344,
          2.4837160110473633,
          2.3791637420654297,
          2.380828380584717
         ],
         "yaxis": "y"
        },
        {
         "hovertemplate": "<b>%{hovertext}</b><br><br>kmeans_cluster_labels=2<br>UMAP_x=%{x}<br>UMAP_y=%{y}<extra></extra>",
         "hovertext": [
          "P00042",
          "P00160",
          "P00096",
          "P00143",
          "P00032",
          "P00151",
          "P00006",
          "P00145",
          "P00107",
          "P00059",
          "P00010",
          "P00095",
          "P00073",
          "P00183",
          "P00184",
          "P00054",
          "P00031",
          "P00157",
          "P00177",
          "P00576",
          "P00414",
          "P00620",
          "P00497",
          "P00437",
          "P00448",
          "P00443",
          "P00614",
          "P00656",
          "P00405",
          "P00658",
          "P00605",
          "P00472",
          "P00648",
          "P00635",
          "P00637",
          "P00485",
          "P00532",
          "P00583",
          "P00625",
          "P00535",
          "P00527",
          "P00368",
          "P00251",
          "P00385",
          "P00348",
          "P00387",
          "P00396",
          "P00279",
          "P00377",
          "P00259",
          "P00283",
          "P00264",
          "P00217",
          "P00329",
          "P00313"
         ],
         "legendgroup": "2",
         "marker": {
          "color": "#19d3f3",
          "symbol": "circle"
         },
         "mode": "markers",
         "name": "2",
         "orientation": "v",
         "showlegend": true,
         "type": "scatter",
         "x": [
          0.9201480150222778,
          0.3331998586654663,
          1.3036079406738281,
          1.1467232704162598,
          1.1115236282348633,
          0.3510790467262268,
          1.2664307355880737,
          1.241905927658081,
          0.8938627243041992,
          0.7156051993370056,
          1.5912567377090454,
          0.8345186710357666,
          0.978752076625824,
          1.1799663305282593,
          0.921597957611084,
          0.8539081811904907,
          0.9440769553184509,
          1.619986653327942,
          0.5691115856170654,
          1.2546329498291016,
          1.9802643060684204,
          0.8708303570747375,
          0.9720359444618225,
          0.8751401901245117,
          1.3483688831329346,
          1.1503580808639526,
          1.7699836492538452,
          1.9593679904937744,
          1.6946223974227905,
          1.1200286149978638,
          0.7203907370567322,
          0.904741108417511,
          1.291099190711975,
          1.2069275379180908,
          0.6040108799934387,
          1.7082836627960205,
          0.3249455392360687,
          0.7994308471679688,
          1.2770419120788574,
          0.5351423025131226,
          0.8137108087539673,
          0.5864630341529846,
          0.7045295238494873,
          1.4729257822036743,
          0.766900897026062,
          1.446341872215271,
          0.8076820373535156,
          1.155290961265564,
          1.781064510345459,
          0.44913384318351746,
          1.663255214691162,
          0.03809059038758278,
          1.3434640169143677,
          0.8276091814041138,
          0.583111584186554
         ],
         "xaxis": "x",
         "y": [
          2.717470407485962,
          2.053546667098999,
          2.1847221851348877,
          1.6228104829788208,
          1.7324097156524658,
          2.409832239151001,
          1.5810132026672363,
          1.615313172340393,
          2.16567325592041,
          2.5047640800476074,
          6.604729652404785,
          2.0739734172821045,
          2.5757079124450684,
          2.277336359024048,
          2.579237699508667,
          2.7329437732696533,
          2.7125296592712402,
          6.570786476135254,
          2.9003548622131348,
          2.2305893898010254,
          2.396088123321533,
          2.0678939819335938,
          2.2599027156829834,
          2.0463521480560303,
          2.2589147090911865,
          1.7424464225769043,
          2.4370603561401367,
          2.7107741832733154,
          2.3767080307006836,
          1.8313336372375488,
          2.5024664402008057,
          2.683959484100342,
          2.180701971054077,
          1.5848010778427124,
          2.820919990539551,
          6.737957954406738,
          2.132213592529297,
          2.1063075065612793,
          1.6435673236846924,
          2.4806056022644043,
          2.135631561279297,
          2.8289029598236084,
          2.215557336807251,
          5.357234477996826,
          2.7493574619293213,
          2.286073684692383,
          2.260655164718628,
          1.796607494354248,
          2.3840174674987793,
          1.957183837890625,
          6.681005477905273,
          2.489283323287964,
          2.1892752647399902,
          2.090725898742676,
          2.867553949356079
         ],
         "yaxis": "y"
        },
        {
         "hovertemplate": "<b>%{hovertext}</b><br><br>kmeans_cluster_labels=5<br>UMAP_x=%{x}<br>UMAP_y=%{y}<extra></extra>",
         "hovertext": [
          "P00075",
          "P00163",
          "P00015",
          "P00071",
          "P00019",
          "P00050",
          "P00066",
          "P00132",
          "P00041",
          "P00150",
          "P00020",
          "P00141",
          "P00003",
          "P00114",
          "P00053",
          "P00168",
          "P00118",
          "P00022",
          "P00444",
          "P00476",
          "P00433",
          "P00624",
          "P00597",
          "P00515",
          "P00627",
          "P00564",
          "P00642",
          "P00553",
          "P00555",
          "P00602",
          "P00495",
          "P00410",
          "P00530",
          "P00522",
          "P00544",
          "P00551",
          "P00533",
          "P00471",
          "P00631",
          "P00612",
          "P00490",
          "P00293",
          "P00260",
          "P00280",
          "P00306",
          "P00317",
          "P00320",
          "P00201",
          "P00262",
          "P00285",
          "P00295",
          "P00286",
          "P00246",
          "P00288",
          "P00210",
          "P00257",
          "P00391",
          "P00218"
         ],
         "legendgroup": "5",
         "marker": {
          "color": "#FF6692",
          "symbol": "circle"
         },
         "mode": "markers",
         "name": "5",
         "orientation": "v",
         "showlegend": true,
         "type": "scatter",
         "x": [
          -0.30872106552124023,
          -0.44479990005493164,
          1.1614580154418945,
          0.2904629409313202,
          0.9107478260993958,
          0.9513373970985413,
          1.0955023765563965,
          1.2015262842178345,
          2.088068962097168,
          0.0844201073050499,
          0.9597679972648621,
          0.24240456521511078,
          0.8704950213432312,
          1.5975278615951538,
          -0.4190259277820587,
          1.0214377641677856,
          2.2297861576080322,
          0.7369654774665833,
          0.07945752888917923,
          1.0781294107437134,
          1.1188865900039673,
          1.1697345972061157,
          1.6164424419403076,
          0.37329262495040894,
          0.051805976778268814,
          0.5126498937606812,
          0.8907925486564636,
          0.9069546461105347,
          1.1784175634384155,
          1.690301537513733,
          0.817402184009552,
          0.8264482021331787,
          1.88865327835083,
          -0.04996677115559578,
          1.7035430669784546,
          0.4174565374851227,
          0.312392920255661,
          1.0756701231002808,
          0.9035831689834595,
          0.8700292706489563,
          0.21471545100212097,
          -0.11097600311040878,
          0.9562155604362488,
          -0.67578125,
          1.4964115619659424,
          1.78013014793396,
          -0.6652117967605591,
          0.6767308115959167,
          0.9526494145393372,
          1.0437346696853638,
          1.074867606163025,
          0.04391099885106087,
          1.3198052644729614,
          1.624757170677185,
          0.7720987796783447,
          0.624485969543457,
          0.6037524938583374,
          0.9924169182777405
         ],
         "xaxis": "x",
         "y": [
          4.757997035980225,
          4.862081527709961,
          4.22326135635376,
          4.633798122406006,
          4.528226375579834,
          3.830326795578003,
          4.912553787231445,
          4.193828582763672,
          3.594970464706421,
          4.07522439956665,
          3.747292995452881,
          4.558516025543213,
          4.301623344421387,
          3.8825013637542725,
          4.136358261108398,
          4.087651252746582,
          3.4917545318603516,
          4.54464054107666,
          4.1161909103393555,
          3.714869260787964,
          4.951862335205078,
          5.121263027191162,
          3.9900615215301514,
          4.564223766326904,
          4.86025857925415,
          4.643352031707764,
          3.9162373542785645,
          3.723294258117676,
          5.051899433135986,
          3.899061441421509,
          4.266139030456543,
          4.3637237548828125,
          3.398798942565918,
          4.8120856285095215,
          3.9143176078796387,
          4.051497936248779,
          4.550463676452637,
          4.224811553955078,
          4.2906293869018555,
          3.848313331604004,
          4.519768238067627,
          4.687417984008789,
          4.385765552520752,
          4.038203716278076,
          3.9281044006347656,
          2.797539234161377,
          3.9984986782073975,
          4.267853260040283,
          3.7328386306762695,
          4.22040319442749,
          3.6840760707855225,
          4.861948013305664,
          3.90571665763855,
          4.122796058654785,
          4.346750736236572,
          4.164555072784424,
          4.286870956420898,
          3.7972004413604736
         ],
         "yaxis": "y"
        },
        {
         "hovertemplate": "<b>%{hovertext}</b><br><br>kmeans_cluster_labels=3<br>UMAP_x=%{x}<br>UMAP_y=%{y}<extra></extra>",
         "hovertext": [
          "P00080",
          "P00076",
          "P00115",
          "P00074",
          "P00188",
          "P00520",
          "P00447",
          "P00493",
          "P00591",
          "P00638",
          "P00662",
          "P00633",
          "P00639",
          "P00475",
          "P00587",
          "P00465",
          "P00363",
          "P00398",
          "P00290",
          "P00397",
          "P00296",
          "P00270",
          "P00361",
          "P00208",
          "P00351",
          "P00203"
         ],
         "legendgroup": "3",
         "marker": {
          "color": "#B6E880",
          "symbol": "circle"
         },
         "mode": "markers",
         "name": "3",
         "orientation": "v",
         "showlegend": true,
         "type": "scatter",
         "x": [
          0.01650897040963173,
          -0.2223730832338333,
          3.404539108276367,
          1.1347864866256714,
          1.907772183418274,
          1.0771969556808472,
          1.2441871166229248,
          2.1407432556152344,
          1.5544148683547974,
          1.7571665048599243,
          0.30758482217788696,
          2.1505486965179443,
          2.664499282836914,
          1.5016160011291504,
          2.0992841720581055,
          2.0854175090789795,
          3.7453229427337646,
          1.519330620765686,
          1.6518992185592651,
          1.9729496240615845,
          3.7296884059906006,
          0.26619577407836914,
          1.2604374885559082,
          2.090573787689209,
          0.05480395630002022,
          1.102537751197815
         ],
         "xaxis": "x",
         "y": [
          6.557242393493652,
          3.6283390522003174,
          3.6091127395629883,
          5.196122646331787,
          5.743692398071289,
          6.1662797927856445,
          5.544235706329346,
          5.791914939880371,
          5.780554294586182,
          5.6551055908203125,
          4.682159423828125,
          5.662515163421631,
          3.245429754257202,
          5.67500638961792,
          5.992969036102295,
          5.675391674041748,
          4.01849889755249,
          5.819888114929199,
          5.932668685913086,
          3.506416082382202,
          4.029860019683838,
          5.758561134338379,
          5.593244552612305,
          6.089847087860107,
          4.025294303894043,
          5.0823445320129395
         ],
         "yaxis": "y"
        },
        {
         "hovertemplate": "<b>%{hovertext}</b><br><br>kmeans_cluster_labels=4<br>UMAP_x=%{x}<br>UMAP_y=%{y}<extra></extra>",
         "hovertext": [
          "P00051",
          "P00083",
          "P00063",
          "P00067",
          "P00008",
          "P00079",
          "P00062",
          "P00189",
          "P00065",
          "P00034",
          "P00013",
          "P00025",
          "P00147",
          "P00011",
          "P00111",
          "P00477",
          "P00478",
          "P00663",
          "P00619",
          "P00506",
          "P00592",
          "P00504",
          "P00460",
          "P00469",
          "P00415",
          "P00408",
          "P00659",
          "P00526",
          "P00525",
          "P00339",
          "P00266",
          "P00370",
          "P00330",
          "P00232",
          "P00353",
          "P00245",
          "P00373",
          "P00335",
          "P00395",
          "P00291",
          "P00207",
          "P00275",
          "P00349",
          "P00305"
         ],
         "legendgroup": "4",
         "marker": {
          "color": "#FF97FF",
          "symbol": "circle"
         },
         "mode": "markers",
         "name": "4",
         "orientation": "v",
         "showlegend": true,
         "type": "scatter",
         "x": [
          2.0543978214263916,
          1.3703018426895142,
          1.184141755104065,
          -0.018372662365436554,
          0.6027147173881531,
          1.536953091621399,
          0.4812663793563843,
          1.2879054546356201,
          1.316318392753601,
          1.1427159309387207,
          0.9403183460235596,
          1.4628981351852417,
          0.7862589955329895,
          1.0877790451049805,
          0.7719389200210571,
          1.0587232112884521,
          1.4948934316635132,
          0.6789565682411194,
          1.5813575983047485,
          1.3823381662368774,
          0.5357790589332581,
          0.9089670777320862,
          1.0698988437652588,
          1.0489811897277832,
          1.497992992401123,
          1.0472338199615479,
          0.6188989877700806,
          1.2205866575241089,
          1.3711668252944946,
          0.7979732751846313,
          0.6151463985443115,
          0.9609625339508057,
          1.4626994132995605,
          0.6118901371955872,
          1.3915250301361084,
          1.1712054014205933,
          0.9273984432220459,
          1.4585551023483276,
          0.6934470534324646,
          2.051793336868286,
          1.3516756296157837,
          0.3130910396575928,
          1.1852716207504272,
          2.0273702144622803
         ],
         "xaxis": "x",
         "y": [
          6.031804084777832,
          5.798871994018555,
          5.528191089630127,
          6.54513692855835,
          6.312837600708008,
          6.563961982727051,
          6.5894598960876465,
          5.611278533935547,
          5.925608158111572,
          6.553531169891357,
          6.313810348510742,
          6.717206954956055,
          5.869241237640381,
          6.2179155349731445,
          5.900473117828369,
          6.144980430603027,
          5.5847859382629395,
          6.66758918762207,
          6.645131587982178,
          6.034445762634277,
          6.705759048461914,
          6.159975051879883,
          6.5505218505859375,
          5.9496169090271,
          6.683582782745361,
          6.518592357635498,
          6.637594699859619,
          5.588472366333008,
          5.935436248779297,
          5.910076141357422,
          6.528400421142578,
          6.073215484619141,
          5.821177005767822,
          6.652250289916992,
          6.441431999206543,
          5.960148334503174,
          6.520570755004883,
          6.280369758605957,
          6.593532085418701,
          6.115464687347412,
          5.750888347625732,
          6.633565902709961,
          5.466413974761963,
          6.115000247955322
         ],
         "yaxis": "y"
        },
        {
         "hovertemplate": "<b>%{hovertext}</b><br><br>kmeans_cluster_labels=7<br>UMAP_x=%{x}<br>UMAP_y=%{y}<extra></extra>",
         "hovertext": [
          "P00159",
          "P00194",
          "P00182",
          "P00543",
          "P00486",
          "P00545",
          "P00505",
          "P00464",
          "P00219",
          "P00298",
          "P00287"
         ],
         "legendgroup": "7",
         "marker": {
          "color": "#FECB52",
          "symbol": "circle"
         },
         "mode": "markers",
         "name": "7",
         "orientation": "v",
         "showlegend": true,
         "type": "scatter",
         "x": [
          4.219139575958252,
          3.9042999744415283,
          3.9750618934631348,
          4.213916301727295,
          3.9046332836151123,
          3.8725576400756836,
          4.143620014190674,
          4.061390399932861,
          4.020781517028809,
          4.185849666595459,
          4.015164852142334
         ],
         "xaxis": "x",
         "y": [
          2.317214012145996,
          2.10019588470459,
          2.0915071964263916,
          2.2885591983795166,
          2.1765646934509277,
          2.16430401802063,
          2.357423782348633,
          2.1299350261688232,
          2.0753562450408936,
          2.2661292552948,
          2.0236945152282715
         ],
         "yaxis": "y"
        }
       ],
       "layout": {
        "legend": {
         "title": {
          "text": "kmeans_cluster_labels"
         },
         "tracegroupgap": 0
        },
        "template": {
         "data": {
          "bar": [
           {
            "error_x": {
             "color": "#2a3f5f"
            },
            "error_y": {
             "color": "#2a3f5f"
            },
            "marker": {
             "line": {
              "color": "#E5ECF6",
              "width": 0.5
             },
             "pattern": {
              "fillmode": "overlay",
              "size": 10,
              "solidity": 0.2
             }
            },
            "type": "bar"
           }
          ],
          "barpolar": [
           {
            "marker": {
             "line": {
              "color": "#E5ECF6",
              "width": 0.5
             },
             "pattern": {
              "fillmode": "overlay",
              "size": 10,
              "solidity": 0.2
             }
            },
            "type": "barpolar"
           }
          ],
          "carpet": [
           {
            "aaxis": {
             "endlinecolor": "#2a3f5f",
             "gridcolor": "white",
             "linecolor": "white",
             "minorgridcolor": "white",
             "startlinecolor": "#2a3f5f"
            },
            "baxis": {
             "endlinecolor": "#2a3f5f",
             "gridcolor": "white",
             "linecolor": "white",
             "minorgridcolor": "white",
             "startlinecolor": "#2a3f5f"
            },
            "type": "carpet"
           }
          ],
          "choropleth": [
           {
            "colorbar": {
             "outlinewidth": 0,
             "ticks": ""
            },
            "type": "choropleth"
           }
          ],
          "contour": [
           {
            "colorbar": {
             "outlinewidth": 0,
             "ticks": ""
            },
            "colorscale": [
             [
              0,
              "#0d0887"
             ],
             [
              0.1111111111111111,
              "#46039f"
             ],
             [
              0.2222222222222222,
              "#7201a8"
             ],
             [
              0.3333333333333333,
              "#9c179e"
             ],
             [
              0.4444444444444444,
              "#bd3786"
             ],
             [
              0.5555555555555556,
              "#d8576b"
             ],
             [
              0.6666666666666666,
              "#ed7953"
             ],
             [
              0.7777777777777778,
              "#fb9f3a"
             ],
             [
              0.8888888888888888,
              "#fdca26"
             ],
             [
              1,
              "#f0f921"
             ]
            ],
            "type": "contour"
           }
          ],
          "contourcarpet": [
           {
            "colorbar": {
             "outlinewidth": 0,
             "ticks": ""
            },
            "type": "contourcarpet"
           }
          ],
          "heatmap": [
           {
            "colorbar": {
             "outlinewidth": 0,
             "ticks": ""
            },
            "colorscale": [
             [
              0,
              "#0d0887"
             ],
             [
              0.1111111111111111,
              "#46039f"
             ],
             [
              0.2222222222222222,
              "#7201a8"
             ],
             [
              0.3333333333333333,
              "#9c179e"
             ],
             [
              0.4444444444444444,
              "#bd3786"
             ],
             [
              0.5555555555555556,
              "#d8576b"
             ],
             [
              0.6666666666666666,
              "#ed7953"
             ],
             [
              0.7777777777777778,
              "#fb9f3a"
             ],
             [
              0.8888888888888888,
              "#fdca26"
             ],
             [
              1,
              "#f0f921"
             ]
            ],
            "type": "heatmap"
           }
          ],
          "heatmapgl": [
           {
            "colorbar": {
             "outlinewidth": 0,
             "ticks": ""
            },
            "colorscale": [
             [
              0,
              "#0d0887"
             ],
             [
              0.1111111111111111,
              "#46039f"
             ],
             [
              0.2222222222222222,
              "#7201a8"
             ],
             [
              0.3333333333333333,
              "#9c179e"
             ],
             [
              0.4444444444444444,
              "#bd3786"
             ],
             [
              0.5555555555555556,
              "#d8576b"
             ],
             [
              0.6666666666666666,
              "#ed7953"
             ],
             [
              0.7777777777777778,
              "#fb9f3a"
             ],
             [
              0.8888888888888888,
              "#fdca26"
             ],
             [
              1,
              "#f0f921"
             ]
            ],
            "type": "heatmapgl"
           }
          ],
          "histogram": [
           {
            "marker": {
             "pattern": {
              "fillmode": "overlay",
              "size": 10,
              "solidity": 0.2
             }
            },
            "type": "histogram"
           }
          ],
          "histogram2d": [
           {
            "colorbar": {
             "outlinewidth": 0,
             "ticks": ""
            },
            "colorscale": [
             [
              0,
              "#0d0887"
             ],
             [
              0.1111111111111111,
              "#46039f"
             ],
             [
              0.2222222222222222,
              "#7201a8"
             ],
             [
              0.3333333333333333,
              "#9c179e"
             ],
             [
              0.4444444444444444,
              "#bd3786"
             ],
             [
              0.5555555555555556,
              "#d8576b"
             ],
             [
              0.6666666666666666,
              "#ed7953"
             ],
             [
              0.7777777777777778,
              "#fb9f3a"
             ],
             [
              0.8888888888888888,
              "#fdca26"
             ],
             [
              1,
              "#f0f921"
             ]
            ],
            "type": "histogram2d"
           }
          ],
          "histogram2dcontour": [
           {
            "colorbar": {
             "outlinewidth": 0,
             "ticks": ""
            },
            "colorscale": [
             [
              0,
              "#0d0887"
             ],
             [
              0.1111111111111111,
              "#46039f"
             ],
             [
              0.2222222222222222,
              "#7201a8"
             ],
             [
              0.3333333333333333,
              "#9c179e"
             ],
             [
              0.4444444444444444,
              "#bd3786"
             ],
             [
              0.5555555555555556,
              "#d8576b"
             ],
             [
              0.6666666666666666,
              "#ed7953"
             ],
             [
              0.7777777777777778,
              "#fb9f3a"
             ],
             [
              0.8888888888888888,
              "#fdca26"
             ],
             [
              1,
              "#f0f921"
             ]
            ],
            "type": "histogram2dcontour"
           }
          ],
          "mesh3d": [
           {
            "colorbar": {
             "outlinewidth": 0,
             "ticks": ""
            },
            "type": "mesh3d"
           }
          ],
          "parcoords": [
           {
            "line": {
             "colorbar": {
              "outlinewidth": 0,
              "ticks": ""
             }
            },
            "type": "parcoords"
           }
          ],
          "pie": [
           {
            "automargin": true,
            "type": "pie"
           }
          ],
          "scatter": [
           {
            "fillpattern": {
             "fillmode": "overlay",
             "size": 10,
             "solidity": 0.2
            },
            "type": "scatter"
           }
          ],
          "scatter3d": [
           {
            "line": {
             "colorbar": {
              "outlinewidth": 0,
              "ticks": ""
             }
            },
            "marker": {
             "colorbar": {
              "outlinewidth": 0,
              "ticks": ""
             }
            },
            "type": "scatter3d"
           }
          ],
          "scattercarpet": [
           {
            "marker": {
             "colorbar": {
              "outlinewidth": 0,
              "ticks": ""
             }
            },
            "type": "scattercarpet"
           }
          ],
          "scattergeo": [
           {
            "marker": {
             "colorbar": {
              "outlinewidth": 0,
              "ticks": ""
             }
            },
            "type": "scattergeo"
           }
          ],
          "scattergl": [
           {
            "marker": {
             "colorbar": {
              "outlinewidth": 0,
              "ticks": ""
             }
            },
            "type": "scattergl"
           }
          ],
          "scattermapbox": [
           {
            "marker": {
             "colorbar": {
              "outlinewidth": 0,
              "ticks": ""
             }
            },
            "type": "scattermapbox"
           }
          ],
          "scatterpolar": [
           {
            "marker": {
             "colorbar": {
              "outlinewidth": 0,
              "ticks": ""
             }
            },
            "type": "scatterpolar"
           }
          ],
          "scatterpolargl": [
           {
            "marker": {
             "colorbar": {
              "outlinewidth": 0,
              "ticks": ""
             }
            },
            "type": "scatterpolargl"
           }
          ],
          "scatterternary": [
           {
            "marker": {
             "colorbar": {
              "outlinewidth": 0,
              "ticks": ""
             }
            },
            "type": "scatterternary"
           }
          ],
          "surface": [
           {
            "colorbar": {
             "outlinewidth": 0,
             "ticks": ""
            },
            "colorscale": [
             [
              0,
              "#0d0887"
             ],
             [
              0.1111111111111111,
              "#46039f"
             ],
             [
              0.2222222222222222,
              "#7201a8"
             ],
             [
              0.3333333333333333,
              "#9c179e"
             ],
             [
              0.4444444444444444,
              "#bd3786"
             ],
             [
              0.5555555555555556,
              "#d8576b"
             ],
             [
              0.6666666666666666,
              "#ed7953"
             ],
             [
              0.7777777777777778,
              "#fb9f3a"
             ],
             [
              0.8888888888888888,
              "#fdca26"
             ],
             [
              1,
              "#f0f921"
             ]
            ],
            "type": "surface"
           }
          ],
          "table": [
           {
            "cells": {
             "fill": {
              "color": "#EBF0F8"
             },
             "line": {
              "color": "white"
             }
            },
            "header": {
             "fill": {
              "color": "#C8D4E3"
             },
             "line": {
              "color": "white"
             }
            },
            "type": "table"
           }
          ]
         },
         "layout": {
          "annotationdefaults": {
           "arrowcolor": "#2a3f5f",
           "arrowhead": 0,
           "arrowwidth": 1
          },
          "autotypenumbers": "strict",
          "coloraxis": {
           "colorbar": {
            "outlinewidth": 0,
            "ticks": ""
           }
          },
          "colorscale": {
           "diverging": [
            [
             0,
             "#8e0152"
            ],
            [
             0.1,
             "#c51b7d"
            ],
            [
             0.2,
             "#de77ae"
            ],
            [
             0.3,
             "#f1b6da"
            ],
            [
             0.4,
             "#fde0ef"
            ],
            [
             0.5,
             "#f7f7f7"
            ],
            [
             0.6,
             "#e6f5d0"
            ],
            [
             0.7,
             "#b8e186"
            ],
            [
             0.8,
             "#7fbc41"
            ],
            [
             0.9,
             "#4d9221"
            ],
            [
             1,
             "#276419"
            ]
           ],
           "sequential": [
            [
             0,
             "#0d0887"
            ],
            [
             0.1111111111111111,
             "#46039f"
            ],
            [
             0.2222222222222222,
             "#7201a8"
            ],
            [
             0.3333333333333333,
             "#9c179e"
            ],
            [
             0.4444444444444444,
             "#bd3786"
            ],
            [
             0.5555555555555556,
             "#d8576b"
            ],
            [
             0.6666666666666666,
             "#ed7953"
            ],
            [
             0.7777777777777778,
             "#fb9f3a"
            ],
            [
             0.8888888888888888,
             "#fdca26"
            ],
            [
             1,
             "#f0f921"
            ]
           ],
           "sequentialminus": [
            [
             0,
             "#0d0887"
            ],
            [
             0.1111111111111111,
             "#46039f"
            ],
            [
             0.2222222222222222,
             "#7201a8"
            ],
            [
             0.3333333333333333,
             "#9c179e"
            ],
            [
             0.4444444444444444,
             "#bd3786"
            ],
            [
             0.5555555555555556,
             "#d8576b"
            ],
            [
             0.6666666666666666,
             "#ed7953"
            ],
            [
             0.7777777777777778,
             "#fb9f3a"
            ],
            [
             0.8888888888888888,
             "#fdca26"
            ],
            [
             1,
             "#f0f921"
            ]
           ]
          },
          "colorway": [
           "#636efa",
           "#EF553B",
           "#00cc96",
           "#ab63fa",
           "#FFA15A",
           "#19d3f3",
           "#FF6692",
           "#B6E880",
           "#FF97FF",
           "#FECB52"
          ],
          "font": {
           "color": "#2a3f5f"
          },
          "geo": {
           "bgcolor": "white",
           "lakecolor": "white",
           "landcolor": "#E5ECF6",
           "showlakes": true,
           "showland": true,
           "subunitcolor": "white"
          },
          "hoverlabel": {
           "align": "left"
          },
          "hovermode": "closest",
          "mapbox": {
           "style": "light"
          },
          "paper_bgcolor": "white",
          "plot_bgcolor": "#E5ECF6",
          "polar": {
           "angularaxis": {
            "gridcolor": "white",
            "linecolor": "white",
            "ticks": ""
           },
           "bgcolor": "#E5ECF6",
           "radialaxis": {
            "gridcolor": "white",
            "linecolor": "white",
            "ticks": ""
           }
          },
          "scene": {
           "xaxis": {
            "backgroundcolor": "#E5ECF6",
            "gridcolor": "white",
            "gridwidth": 2,
            "linecolor": "white",
            "showbackground": true,
            "ticks": "",
            "zerolinecolor": "white"
           },
           "yaxis": {
            "backgroundcolor": "#E5ECF6",
            "gridcolor": "white",
            "gridwidth": 2,
            "linecolor": "white",
            "showbackground": true,
            "ticks": "",
            "zerolinecolor": "white"
           },
           "zaxis": {
            "backgroundcolor": "#E5ECF6",
            "gridcolor": "white",
            "gridwidth": 2,
            "linecolor": "white",
            "showbackground": true,
            "ticks": "",
            "zerolinecolor": "white"
           }
          },
          "shapedefaults": {
           "line": {
            "color": "#2a3f5f"
           }
          },
          "ternary": {
           "aaxis": {
            "gridcolor": "white",
            "linecolor": "white",
            "ticks": ""
           },
           "baxis": {
            "gridcolor": "white",
            "linecolor": "white",
            "ticks": ""
           },
           "bgcolor": "#E5ECF6",
           "caxis": {
            "gridcolor": "white",
            "linecolor": "white",
            "ticks": ""
           }
          },
          "title": {
           "x": 0.05
          },
          "xaxis": {
           "automargin": true,
           "gridcolor": "white",
           "linecolor": "white",
           "ticks": "",
           "title": {
            "standoff": 15
           },
           "zerolinecolor": "white",
           "zerolinewidth": 2
          },
          "yaxis": {
           "automargin": true,
           "gridcolor": "white",
           "linecolor": "white",
           "ticks": "",
           "title": {
            "standoff": 15
           },
           "zerolinecolor": "white",
           "zerolinewidth": 2
          }
         }
        },
        "title": {
         "text": "Direct k-means clustering"
        },
        "xaxis": {
         "anchor": "y",
         "domain": [
          0,
          1
         ],
         "title": {
          "text": "UMAP_x"
         }
        },
        "yaxis": {
         "anchor": "x",
         "domain": [
          0,
          1
         ],
         "title": {
          "text": "UMAP_y"
         }
        }
       }
      }
     },
     "metadata": {},
     "output_type": "display_data"
    }
   ],
   "source": [
    "px.scatter(data_frame=hla_df.reset_index(), x=\"UMAP_x\", y=\"UMAP_y\", hover_name=\"sample_name\", color=\"kmeans_cluster_labels\", title=\"Direct k-means clustering\")"
   ]
  },
  {
   "attachments": {},
   "cell_type": "markdown",
   "metadata": {},
   "source": [
    "## Save the results"
   ]
  },
  {
   "cell_type": "code",
   "execution_count": 16,
   "metadata": {},
   "outputs": [],
   "source": [
    "hla_df[[\"UMAP_x\",\"UMAP_y\",\"umap_hdb_cluster_labels\",\"kmeans_cluster_labels\"]].to_csv(\"hla_clusters.tsv\", sep=\"\\t\")"
   ]
  },
  {
   "cell_type": "code",
   "execution_count": 19,
   "metadata": {},
   "outputs": [
    {
     "data": {
      "text/html": [
       "<div>\n",
       "<style scoped>\n",
       "    .dataframe tbody tr th:only-of-type {\n",
       "        vertical-align: middle;\n",
       "    }\n",
       "\n",
       "    .dataframe tbody tr th {\n",
       "        vertical-align: top;\n",
       "    }\n",
       "\n",
       "    .dataframe thead th {\n",
       "        text-align: right;\n",
       "    }\n",
       "</style>\n",
       "<table border=\"1\" class=\"dataframe\">\n",
       "  <thead>\n",
       "    <tr style=\"text-align: right;\">\n",
       "      <th></th>\n",
       "      <th>sample_name</th>\n",
       "      <th>species</th>\n",
       "      <th>locus</th>\n",
       "      <th>product_subtype</th>\n",
       "      <th>hla_class_i</th>\n",
       "      <th>hla_class_ii</th>\n",
       "      <th>sample_amount_ng</th>\n",
       "      <th>sample_cells_mass_estimate</th>\n",
       "      <th>counting_method</th>\n",
       "      <th>primer_set</th>\n",
       "      <th>...</th>\n",
       "      <th>HLA-DQAB*02:01_06:03</th>\n",
       "      <th>HLA-DQAB*01:03_06:01</th>\n",
       "      <th>HLA-DQAB*01:03_06:02</th>\n",
       "      <th>HLA-DPAB*01:03_10:01</th>\n",
       "      <th>HLA-DQAB*01:02_04:02</th>\n",
       "      <th>HLA-DPAB*02:02_05:01</th>\n",
       "      <th>UMAP_x</th>\n",
       "      <th>UMAP_y</th>\n",
       "      <th>umap_hdb_cluster_labels</th>\n",
       "      <th>kmeans_cluster_labels</th>\n",
       "    </tr>\n",
       "  </thead>\n",
       "  <tbody>\n",
       "    <tr>\n",
       "      <th>0</th>\n",
       "      <td>P00030</td>\n",
       "      <td>Human</td>\n",
       "      <td>TCRB</td>\n",
       "      <td>Deep</td>\n",
       "      <td>NaN</td>\n",
       "      <td>NaN</td>\n",
       "      <td>1165.71997</td>\n",
       "      <td>179341.0</td>\n",
       "      <td>v2</td>\n",
       "      <td>Human-TCRB-PD1x</td>\n",
       "      <td>...</td>\n",
       "      <td>False</td>\n",
       "      <td>False</td>\n",
       "      <td>False</td>\n",
       "      <td>False</td>\n",
       "      <td>False</td>\n",
       "      <td>False</td>\n",
       "      <td>1.445110</td>\n",
       "      <td>3.308099</td>\n",
       "      <td>-1</td>\n",
       "      <td>6</td>\n",
       "    </tr>\n",
       "    <tr>\n",
       "      <th>1</th>\n",
       "      <td>P00061</td>\n",
       "      <td>Human</td>\n",
       "      <td>TCRB</td>\n",
       "      <td>Deep</td>\n",
       "      <td>NaN</td>\n",
       "      <td>NaN</td>\n",
       "      <td>1096.12000</td>\n",
       "      <td>168633.0</td>\n",
       "      <td>v2</td>\n",
       "      <td>Human-TCRB-PD1x</td>\n",
       "      <td>...</td>\n",
       "      <td>False</td>\n",
       "      <td>False</td>\n",
       "      <td>False</td>\n",
       "      <td>False</td>\n",
       "      <td>False</td>\n",
       "      <td>False</td>\n",
       "      <td>5.117915</td>\n",
       "      <td>1.896591</td>\n",
       "      <td>1</td>\n",
       "      <td>1</td>\n",
       "    </tr>\n",
       "    <tr>\n",
       "      <th>2</th>\n",
       "      <td>P00127</td>\n",
       "      <td>Human</td>\n",
       "      <td>TCRB</td>\n",
       "      <td>Deep</td>\n",
       "      <td>NaN</td>\n",
       "      <td>NaN</td>\n",
       "      <td>3636.47998</td>\n",
       "      <td>559458.0</td>\n",
       "      <td>v2</td>\n",
       "      <td>Human-TCRB-PD1x</td>\n",
       "      <td>...</td>\n",
       "      <td>False</td>\n",
       "      <td>False</td>\n",
       "      <td>False</td>\n",
       "      <td>False</td>\n",
       "      <td>False</td>\n",
       "      <td>False</td>\n",
       "      <td>3.013370</td>\n",
       "      <td>1.992949</td>\n",
       "      <td>2</td>\n",
       "      <td>9</td>\n",
       "    </tr>\n",
       "    <tr>\n",
       "      <th>3</th>\n",
       "      <td>P00033</td>\n",
       "      <td>Human</td>\n",
       "      <td>TCRB</td>\n",
       "      <td>Deep</td>\n",
       "      <td>NaN</td>\n",
       "      <td>NaN</td>\n",
       "      <td>3636.47998</td>\n",
       "      <td>559458.0</td>\n",
       "      <td>v2</td>\n",
       "      <td>Human-TCRB-PD1x</td>\n",
       "      <td>...</td>\n",
       "      <td>NaN</td>\n",
       "      <td>NaN</td>\n",
       "      <td>NaN</td>\n",
       "      <td>False</td>\n",
       "      <td>NaN</td>\n",
       "      <td>False</td>\n",
       "      <td>NaN</td>\n",
       "      <td>NaN</td>\n",
       "      <td>NaN</td>\n",
       "      <td>NaN</td>\n",
       "    </tr>\n",
       "    <tr>\n",
       "      <th>4</th>\n",
       "      <td>P00175</td>\n",
       "      <td>Human</td>\n",
       "      <td>TCRB</td>\n",
       "      <td>Deep</td>\n",
       "      <td>NaN</td>\n",
       "      <td>NaN</td>\n",
       "      <td>3636.47998</td>\n",
       "      <td>559458.0</td>\n",
       "      <td>v2</td>\n",
       "      <td>Human-TCRB-PD1x</td>\n",
       "      <td>...</td>\n",
       "      <td>False</td>\n",
       "      <td>False</td>\n",
       "      <td>False</td>\n",
       "      <td>False</td>\n",
       "      <td>False</td>\n",
       "      <td>False</td>\n",
       "      <td>-0.463435</td>\n",
       "      <td>4.195048</td>\n",
       "      <td>10</td>\n",
       "      <td>8</td>\n",
       "    </tr>\n",
       "    <tr>\n",
       "      <th>...</th>\n",
       "      <td>...</td>\n",
       "      <td>...</td>\n",
       "      <td>...</td>\n",
       "      <td>...</td>\n",
       "      <td>...</td>\n",
       "      <td>...</td>\n",
       "      <td>...</td>\n",
       "      <td>...</td>\n",
       "      <td>...</td>\n",
       "      <td>...</td>\n",
       "      <td>...</td>\n",
       "      <td>...</td>\n",
       "      <td>...</td>\n",
       "      <td>...</td>\n",
       "      <td>...</td>\n",
       "      <td>...</td>\n",
       "      <td>...</td>\n",
       "      <td>...</td>\n",
       "      <td>...</td>\n",
       "      <td>...</td>\n",
       "      <td>...</td>\n",
       "    </tr>\n",
       "    <tr>\n",
       "      <th>661</th>\n",
       "      <td>P00379</td>\n",
       "      <td>Human</td>\n",
       "      <td>TCRB</td>\n",
       "      <td>Deep</td>\n",
       "      <td>NaN</td>\n",
       "      <td>NaN</td>\n",
       "      <td>1802.76001</td>\n",
       "      <td>277347.0</td>\n",
       "      <td>v2</td>\n",
       "      <td>Human-TCRB-PD1x</td>\n",
       "      <td>...</td>\n",
       "      <td>NaN</td>\n",
       "      <td>NaN</td>\n",
       "      <td>NaN</td>\n",
       "      <td>False</td>\n",
       "      <td>NaN</td>\n",
       "      <td>False</td>\n",
       "      <td>NaN</td>\n",
       "      <td>NaN</td>\n",
       "      <td>NaN</td>\n",
       "      <td>NaN</td>\n",
       "    </tr>\n",
       "    <tr>\n",
       "      <th>662</th>\n",
       "      <td>P00305</td>\n",
       "      <td>Human</td>\n",
       "      <td>TCRB</td>\n",
       "      <td>Deep</td>\n",
       "      <td>NaN</td>\n",
       "      <td>NaN</td>\n",
       "      <td>NaN</td>\n",
       "      <td>NaN</td>\n",
       "      <td>v2</td>\n",
       "      <td>Human-TCRB-PD1x</td>\n",
       "      <td>...</td>\n",
       "      <td>True</td>\n",
       "      <td>False</td>\n",
       "      <td>False</td>\n",
       "      <td>False</td>\n",
       "      <td>False</td>\n",
       "      <td>False</td>\n",
       "      <td>2.027370</td>\n",
       "      <td>6.115000</td>\n",
       "      <td>4</td>\n",
       "      <td>4</td>\n",
       "    </tr>\n",
       "    <tr>\n",
       "      <th>663</th>\n",
       "      <td>P00389</td>\n",
       "      <td>Human</td>\n",
       "      <td>TCRB</td>\n",
       "      <td>Deep</td>\n",
       "      <td>NaN</td>\n",
       "      <td>NaN</td>\n",
       "      <td>3636.47998</td>\n",
       "      <td>559458.0</td>\n",
       "      <td>v2</td>\n",
       "      <td>Human-TCRB-PD1x</td>\n",
       "      <td>...</td>\n",
       "      <td>False</td>\n",
       "      <td>False</td>\n",
       "      <td>False</td>\n",
       "      <td>False</td>\n",
       "      <td>False</td>\n",
       "      <td>False</td>\n",
       "      <td>-0.507814</td>\n",
       "      <td>2.380828</td>\n",
       "      <td>5</td>\n",
       "      <td>0</td>\n",
       "    </tr>\n",
       "    <tr>\n",
       "      <th>664</th>\n",
       "      <td>P00231</td>\n",
       "      <td>Human</td>\n",
       "      <td>TCRB</td>\n",
       "      <td>Deep</td>\n",
       "      <td>NaN</td>\n",
       "      <td>NaN</td>\n",
       "      <td>NaN</td>\n",
       "      <td>NaN</td>\n",
       "      <td>v2</td>\n",
       "      <td>Human-TCRB-PD1x</td>\n",
       "      <td>...</td>\n",
       "      <td>False</td>\n",
       "      <td>False</td>\n",
       "      <td>False</td>\n",
       "      <td>False</td>\n",
       "      <td>False</td>\n",
       "      <td>False</td>\n",
       "      <td>3.821436</td>\n",
       "      <td>3.522074</td>\n",
       "      <td>0</td>\n",
       "      <td>9</td>\n",
       "    </tr>\n",
       "    <tr>\n",
       "      <th>665</th>\n",
       "      <td>P00341</td>\n",
       "      <td>Human</td>\n",
       "      <td>TCRB</td>\n",
       "      <td>Deep</td>\n",
       "      <td>NaN</td>\n",
       "      <td>NaN</td>\n",
       "      <td>3636.47998</td>\n",
       "      <td>559458.0</td>\n",
       "      <td>v2</td>\n",
       "      <td>Human-TCRB-PD1x</td>\n",
       "      <td>...</td>\n",
       "      <td>False</td>\n",
       "      <td>False</td>\n",
       "      <td>False</td>\n",
       "      <td>False</td>\n",
       "      <td>False</td>\n",
       "      <td>False</td>\n",
       "      <td>0.718401</td>\n",
       "      <td>3.419701</td>\n",
       "      <td>-1</td>\n",
       "      <td>6</td>\n",
       "    </tr>\n",
       "  </tbody>\n",
       "</table>\n",
       "<p>666 rows × 291 columns</p>\n",
       "</div>"
      ],
      "text/plain": [
       "    sample_name species locus product_subtype  hla_class_i  hla_class_ii  \\\n",
       "0        P00030   Human  TCRB            Deep          NaN           NaN   \n",
       "1        P00061   Human  TCRB            Deep          NaN           NaN   \n",
       "2        P00127   Human  TCRB            Deep          NaN           NaN   \n",
       "3        P00033   Human  TCRB            Deep          NaN           NaN   \n",
       "4        P00175   Human  TCRB            Deep          NaN           NaN   \n",
       "..          ...     ...   ...             ...          ...           ...   \n",
       "661      P00379   Human  TCRB            Deep          NaN           NaN   \n",
       "662      P00305   Human  TCRB            Deep          NaN           NaN   \n",
       "663      P00389   Human  TCRB            Deep          NaN           NaN   \n",
       "664      P00231   Human  TCRB            Deep          NaN           NaN   \n",
       "665      P00341   Human  TCRB            Deep          NaN           NaN   \n",
       "\n",
       "     sample_amount_ng  sample_cells_mass_estimate counting_method  \\\n",
       "0          1165.71997                    179341.0              v2   \n",
       "1          1096.12000                    168633.0              v2   \n",
       "2          3636.47998                    559458.0              v2   \n",
       "3          3636.47998                    559458.0              v2   \n",
       "4          3636.47998                    559458.0              v2   \n",
       "..                ...                         ...             ...   \n",
       "661        1802.76001                    277347.0              v2   \n",
       "662               NaN                         NaN              v2   \n",
       "663        3636.47998                    559458.0              v2   \n",
       "664               NaN                         NaN              v2   \n",
       "665        3636.47998                    559458.0              v2   \n",
       "\n",
       "          primer_set  ...  HLA-DQAB*02:01_06:03 HLA-DQAB*01:03_06:01  \\\n",
       "0    Human-TCRB-PD1x  ...                 False                False   \n",
       "1    Human-TCRB-PD1x  ...                 False                False   \n",
       "2    Human-TCRB-PD1x  ...                 False                False   \n",
       "3    Human-TCRB-PD1x  ...                   NaN                  NaN   \n",
       "4    Human-TCRB-PD1x  ...                 False                False   \n",
       "..               ...  ...                   ...                  ...   \n",
       "661  Human-TCRB-PD1x  ...                   NaN                  NaN   \n",
       "662  Human-TCRB-PD1x  ...                  True                False   \n",
       "663  Human-TCRB-PD1x  ...                 False                False   \n",
       "664  Human-TCRB-PD1x  ...                 False                False   \n",
       "665  Human-TCRB-PD1x  ...                 False                False   \n",
       "\n",
       "    HLA-DQAB*01:03_06:02 HLA-DPAB*01:03_10:01 HLA-DQAB*01:02_04:02  \\\n",
       "0                  False                False                False   \n",
       "1                  False                False                False   \n",
       "2                  False                False                False   \n",
       "3                    NaN                False                  NaN   \n",
       "4                  False                False                False   \n",
       "..                   ...                  ...                  ...   \n",
       "661                  NaN                False                  NaN   \n",
       "662                False                False                False   \n",
       "663                False                False                False   \n",
       "664                False                False                False   \n",
       "665                False                False                False   \n",
       "\n",
       "    HLA-DPAB*02:02_05:01    UMAP_x    UMAP_y umap_hdb_cluster_labels  \\\n",
       "0                  False  1.445110  3.308099                      -1   \n",
       "1                  False  5.117915  1.896591                       1   \n",
       "2                  False  3.013370  1.992949                       2   \n",
       "3                  False       NaN       NaN                     NaN   \n",
       "4                  False -0.463435  4.195048                      10   \n",
       "..                   ...       ...       ...                     ...   \n",
       "661                False       NaN       NaN                     NaN   \n",
       "662                False  2.027370  6.115000                       4   \n",
       "663                False -0.507814  2.380828                       5   \n",
       "664                False  3.821436  3.522074                       0   \n",
       "665                False  0.718401  3.419701                      -1   \n",
       "\n",
       "    kmeans_cluster_labels  \n",
       "0                       6  \n",
       "1                       1  \n",
       "2                       9  \n",
       "3                     NaN  \n",
       "4                       8  \n",
       "..                    ...  \n",
       "661                   NaN  \n",
       "662                     4  \n",
       "663                     0  \n",
       "664                     9  \n",
       "665                     6  \n",
       "\n",
       "[666 rows x 291 columns]"
      ]
     },
     "execution_count": 19,
     "metadata": {},
     "output_type": "execute_result"
    }
   ],
   "source": [
    "pd.merge(df, hla_df[[\"UMAP_x\",\"UMAP_y\",\"umap_hdb_cluster_labels\",\"kmeans_cluster_labels\"]].reset_index(), on=\"sample_name\", how=\"left\")"
   ]
  }
 ],
 "metadata": {
  "kernelspec": {
   "display_name": "raptcr",
   "language": "python",
   "name": "python3"
  },
  "language_info": {
   "codemirror_mode": {
    "name": "ipython",
    "version": 3
   },
   "file_extension": ".py",
   "mimetype": "text/x-python",
   "name": "python",
   "nbconvert_exporter": "python",
   "pygments_lexer": "ipython3",
   "version": "3.9.16"
  },
  "orig_nbformat": 4
 },
 "nbformat": 4,
 "nbformat_minor": 2
}
